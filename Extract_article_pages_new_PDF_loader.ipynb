{
 "cells": [
  {
   "cell_type": "markdown",
   "id": "b68bc01a",
   "metadata": {},
   "source": [
    "### Objective\n",
    "\n",
    "In this notebook, we will try to automatically extract the page numbers of an ABB review issue."
   ]
  },
  {
   "cell_type": "code",
   "execution_count": 1,
   "id": "6434c87a",
   "metadata": {},
   "outputs": [],
   "source": [
    "from langchain.document_loaders import PyPDFLoader\n",
    "import re"
   ]
  },
  {
   "cell_type": "code",
   "execution_count": 6,
   "id": "8a079f17",
   "metadata": {},
   "outputs": [],
   "source": [
    "# issue_name = 'ABB Review_03_2022_layout complete_EN_72-200dpi'\n",
    "issue_name = 'ABB Review_03_2023_layout complete_EN_300dpi'\n",
    "# issue_name = 'ABB Review_02_2023_layout complete_EN_72-300dpi'\n",
    "# issue_name = 'ABB Review_01_2023_layout complete_EN_72-300dpi'\n",
    "loader = PyPDFLoader(\"./papers/\"+issue_name+\".pdf\")\n",
    "raw_documents = loader.load()\n",
    "TOC_page = 3\n",
    "TOC = raw_documents[TOC_page-1].page_content\n",
    "\n",
    "# Remove font issue\n",
    "TOC = TOC.replace('�', '')"
   ]
  },
  {
   "cell_type": "code",
   "execution_count": 7,
   "id": "6107e286",
   "metadata": {},
   "outputs": [],
   "source": [
    "def extract_metadata(text):\n",
    "    # Split the text into lines\n",
    "    lines = text.split('\\n')\n",
    "    \n",
    "    # Extract TOC page number\n",
    "    TOC_page_number = int(lines[0].split('|')[-1][4:])\n",
    "\n",
    "    # Prepare to iterate through the lines\n",
    "    i = 0\n",
    "    articles = []\n",
    "    while i < len(lines):\n",
    "        line = lines[i].strip()\n",
    "\n",
    "        # Check if the line starts with a number followed by the article title\n",
    "        # Ensure the following characters are not digits\n",
    "#         match = re.match(r'(\\d+)\\s+([^\\d]+)$', line)\n",
    "        match = re.search(r'(\\d+)\\s+([^\\d]+)$', line)\n",
    "        if match:\n",
    "            # Extract the starting page number and title\n",
    "            start_page, title = match.groups()\n",
    "            subtitle = \"\"\n",
    "            i += 1\n",
    "\n",
    "            # Extract the subtitle (lines until delimiter '—' or next \"page number + title\" combination)\n",
    "            while i < len(lines) and not re.match(r'\\d+\\s+[^\\d]+$', lines[i]):\n",
    "                if '—' in lines[i]:  # Check if delimiter is present in the line\n",
    "                    # Split the line at the delimiter and keep only the left portion\n",
    "                    left_portion = lines[i].split('—')[0].strip()\n",
    "                    subtitle += ' ' + left_portion\n",
    "                    i += 1\n",
    "                    break\n",
    "                subtitle += ' ' + lines[i].strip()\n",
    "                i += 1\n",
    "\n",
    "            subtitle = subtitle.strip()\n",
    "            \n",
    "            # remove invalid articles with too long subtitles\n",
    "            if len(subtitle)<150:\n",
    "                articles.append({\"start_page\": int(start_page), \"title\": title, \"subtitle\": subtitle})\n",
    "        else:\n",
    "            i += 1\n",
    "\n",
    "    return articles, TOC_page_number"
   ]
  },
  {
   "cell_type": "code",
   "execution_count": 8,
   "id": "2567c491",
   "metadata": {},
   "outputs": [],
   "source": [
    "# Extract final articles with titles, subtitles, and categories\n",
    "articles, TOC_page_number = extract_metadata(TOC)\n",
    "\n",
    "# Rearrange artical order\n",
    "articles.sort(key=lambda x: int(x['start_page']))\n",
    "\n",
    "# Infer ending page\n",
    "end_pages = []\n",
    "for i in range(len(articles) - 1):\n",
    "    end_pages.append(articles[i+1]['start_page'] - 1)\n",
    "    \n",
    "# Add placeholder for the last article since we don't have its end page\n",
    "end_pages.append(\"Unknown\")\n",
    "\n",
    "# Attach end page to articles\n",
    "for article, end_page in zip(articles, end_pages):\n",
    "    if end_page != \"Unknown\":\n",
    "        article['length'] = end_page - article['start_page'] + 1\n",
    "    elif article['title']=='Editorial':\n",
    "        article['length'] = 1\n",
    "    else:\n",
    "        article['length'] = \"Unknown\"\n",
    "    \n",
    "# Retain only valid articles\n",
    "subscribe_index = next((i for i, article in enumerate(articles) if article['title'] == 'Subscribe'), None)\n",
    "if subscribe_index is not None:\n",
    "    articles = articles[:subscribe_index]\n",
    "    \n",
    "# Page number in relative\n",
    "for article in articles:\n",
    "    article['start_page'] = article['start_page'] - TOC_page_number + 3"
   ]
  },
  {
   "cell_type": "code",
   "execution_count": 9,
   "id": "e5d260b8",
   "metadata": {},
   "outputs": [
    {
     "data": {
      "text/plain": [
       "[{'start_page': 5, 'title': 'Editorial', 'subtitle': '', 'length': 3},\n",
       " {'start_page': 8,\n",
       "  'title': 'Pathway to sustainability',\n",
       "  'subtitle': \"Interview with ABB's Head of Sustainability, Anke Hampel\",\n",
       "  'length': 6},\n",
       " {'start_page': 14,\n",
       "  'title': 'Electric switch',\n",
       "  'subtitle': 'Improving sustainability by switching to electric vehicles',\n",
       "  'length': 4},\n",
       " {'start_page': 18,\n",
       "  'title': 'In grid we trust',\n",
       "  'subtitle': 'The electric grid is the silent enabler of a more sustainable energy system',\n",
       "  'length': 8},\n",
       " {'start_page': 26,\n",
       "  'title': 'On a mission',\n",
       "  'subtitle': 'Smart energy and asset  mana  ge- ment makes buildings  energy- efficient',\n",
       "  'length': 8},\n",
       " {'start_page': 34,\n",
       "  'title': 'Sustainable living',\n",
       "  'subtitle': 'Interview: Smarter buildings and the ABB Electrification Startup Challenge',\n",
       "  'length': 6},\n",
       " {'start_page': 40,\n",
       "  'title': 'Perfect partners',\n",
       "  'subtitle': 'Microsoft and ABB: Enabling improved energy efficiency in customer operations',\n",
       "  'length': 6},\n",
       " {'start_page': 46,\n",
       "  'title': 'Klabin-ABB  partnership',\n",
       "  'subtitle': 'From planted forests to package – sustainably Share this issue of ABB Review',\n",
       "  'length': 6},\n",
       " {'start_page': 52,\n",
       "  'title': 'Far-edge future',\n",
       "  'subtitle': 'Pratexo CEO discusses faster development of decentralized software architecture',\n",
       "  'length': 10},\n",
       " {'start_page': 62,\n",
       "  'title': 'Sizing matters',\n",
       "  'subtitle': 'Holistically optimizing hydrogen production plants during planning',\n",
       "  'length': 6},\n",
       " {'start_page': 68,\n",
       "  'title': 'Cooler power  electronics',\n",
       "  'subtitle': 'Next generation low voltage drives with additive manufactur - ing of cooling devices',\n",
       "  'length': 6},\n",
       " {'start_page': 74,\n",
       "  'title': 'Carbon neutrality and net zero',\n",
       "  'subtitle': '',\n",
       "  'length': 1}]"
      ]
     },
     "execution_count": 9,
     "metadata": {},
     "output_type": "execute_result"
    }
   ],
   "source": [
    "articles"
   ]
  },
  {
   "cell_type": "code",
   "execution_count": null,
   "id": "4f4e5c88",
   "metadata": {},
   "outputs": [],
   "source": [
    "len(articles)"
   ]
  },
  {
   "cell_type": "code",
   "execution_count": null,
   "id": "19074936",
   "metadata": {},
   "outputs": [],
   "source": []
  }
 ],
 "metadata": {
  "kernelspec": {
   "display_name": "Python 3 (ipykernel)",
   "language": "python",
   "name": "python3"
  },
  "language_info": {
   "codemirror_mode": {
    "name": "ipython",
    "version": 3
   },
   "file_extension": ".py",
   "mimetype": "text/x-python",
   "name": "python",
   "nbconvert_exporter": "python",
   "pygments_lexer": "ipython3",
   "version": "3.10.11"
  }
 },
 "nbformat": 4,
 "nbformat_minor": 5
}
