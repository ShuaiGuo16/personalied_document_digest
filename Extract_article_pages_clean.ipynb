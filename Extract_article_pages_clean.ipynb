{
 "cells": [
  {
   "cell_type": "markdown",
   "id": "b68bc01a",
   "metadata": {},
   "source": [
    "### Objective\n",
    "\n",
    "In this notebook, we will try to automatically extract the page numbers of an ABB review issue."
   ]
  },
  {
   "cell_type": "code",
   "execution_count": 1,
   "id": "6434c87a",
   "metadata": {},
   "outputs": [],
   "source": [
    "from langchain.document_loaders import PyMuPDFLoader\n",
    "import re"
   ]
  },
  {
   "cell_type": "code",
   "execution_count": 3,
   "id": "8a079f17",
   "metadata": {},
   "outputs": [],
   "source": [
    "# issue_name = 'ABB Review_03_2023_layout complete_EN_300dpi'\n",
    "# issue_name = 'ABB Review_02_2023_layout complete_EN_72-300dpi'\n",
    "issue_name = 'ABB Review_01_2023_layout complete_EN_72-300dpi'\n",
    "loader = PyMuPDFLoader(\"./papers/\"+issue_name+\".pdf\")\n",
    "raw_documents = loader.load()\n",
    "TOC_page = 3\n",
    "TOC = raw_documents[TOC_page-1].page_content\n",
    "\n",
    "# Remove font issue\n",
    "TOC = TOC.replace('�', '')"
   ]
  },
  {
   "cell_type": "code",
   "execution_count": 4,
   "id": "2a098872",
   "metadata": {
    "scrolled": true
   },
   "outputs": [
    {
     "data": {
      "text/plain": [
       "'01|2023\\n3\\n— \\nTransportation  \\nand efficiency\\n56 \\nA circular future \\nSustainability in the life of an \\nelectric motor\\n62 \\nBORDLINE® ESS\\nHigh-performance lithium-ion \\nbatteries for rolling stock \\n66 \\nGrid support\\nSynchronous condensers pro-\\nvide inertia for grid stabilization\\n72 \\nBreaking ground\\nSolid-state protection for DC \\ndistribution onboard\\n— \\nBuzzword Demystifier\\n80 \\nOPC UA\\n—\\n81 \\nSubscribe\\n81 \\nFrench and Spanish translations\\n81 \\nImprint\\n—\\n04\\nGuest editorial\\n05\\nEditorial\\n— \\n900th edition\\n06\\nA word from the chairman\\n07\\nPostcards\\n09 \\nThe shoulders of giants \\nABB Review publishes its  \\n900th issue\\n— \\nBest innovations\\n16 \\nSelected innovations in brief\\n— \\nDigitalization\\n34 \\nCutting the cables \\n5Gforprocessautomation\\n40 \\nSecure onboarding\\nOPC UA helps make industrial \\ncommunication secure\\n44 \\nPerfect circle\\nDigitalization and sustainability\\n50 \\nDigital future\\nABB’s next generation drive \\n control platform\\n—\\nCover pictures\\nThe picture on the left shows a DP200 \\ncomputer. This computer was created \\nby Brown Boveri for advanced tasks \\nin process control. It could store \\n4,096 words (expandable to 32,768) \\nof 20 bits, and had an interruptible \\narchitecture with parallel input and \\noutput channels. The operator’s \\nconsole and teletypewriter can be \\nseen in the foreground. The cabinet \\nwith the central processor, storage \\nand the input/output system are in \\nthe background. This computer and its \\napplications are described in several \\narticles in Brown Boveri Review \\n5-6/1965. This issue can be accessed \\nthrough the QR code below.\\n \\n \\nThe comparison picture on the right \\nshows a modern control room. See \\nalso page 40 of this issue of ABB \\nReview.\\n'"
      ]
     },
     "execution_count": 4,
     "metadata": {},
     "output_type": "execute_result"
    }
   ],
   "source": [
    "TOC"
   ]
  },
  {
   "cell_type": "code",
   "execution_count": 5,
   "id": "6107e286",
   "metadata": {},
   "outputs": [],
   "source": [
    "def extract_articles(content):\n",
    "    # Split content by potential page numbers and extract the sections\n",
    "    sections = re.split(r'\\b(\\d{1,4})\\b', content)\n",
    "    \n",
    "    # Create a list to store extracted articles\n",
    "    articles = []\n",
    "    \n",
    "    # Iterate over sections to identify articles\n",
    "    for i in range(1, len(sections) - 1, 2):\n",
    "        # Check if the section following the number looks like an article title\n",
    "        potential_title_section = sections[i+1].strip().split(\"\\n\")\n",
    "        \n",
    "        # If the section is too short or starts with non-alphabetical character, it's likely not a title\n",
    "        if len(potential_title_section) < 1 or (potential_title_section[0] and not potential_title_section[0][0].isalpha()):\n",
    "            continue\n",
    "        \n",
    "        # Extract title, subtitle, and category\n",
    "        title = potential_title_section[0]\n",
    "        if len(title)>0:\n",
    "        \n",
    "            # Check for category and subtitle indicators\n",
    "            subtitle = []\n",
    "            for line in potential_title_section[1:]:\n",
    "                if '—' in line:\n",
    "                    break\n",
    "                else:\n",
    "                    subtitle.append(line.strip())\n",
    "\n",
    "            subtitle = \" \".join(subtitle) if subtitle else None\n",
    "\n",
    "            # Add the article title, subtitle, category, and page number to the list\n",
    "            articles.append({\n",
    "                \"title\": title,\n",
    "                \"subtitle\": subtitle,\n",
    "                \"starting page\": int(sections[i])\n",
    "            })\n",
    "    \n",
    "    return articles"
   ]
  },
  {
   "cell_type": "code",
   "execution_count": 6,
   "id": "2567c491",
   "metadata": {},
   "outputs": [],
   "source": [
    "# Extract final articles with titles, subtitles, and categories\n",
    "articles = extract_articles(TOC)\n",
    "\n",
    "# Rearrange artical order\n",
    "articles.sort(key=lambda x: int(x['starting page']))\n",
    "\n",
    "# Infer ending page\n",
    "end_pages = []\n",
    "for i in range(len(articles) - 1):\n",
    "    end_pages.append(int(articles[i+1]['starting page']) - 1)\n",
    "    \n",
    "# Add placeholder for the last article since we don't have its end page\n",
    "end_pages.append(\"Unknown\")\n",
    "\n",
    "# Attach end page to articles\n",
    "for article, end_page in zip(articles, end_pages):\n",
    "    if end_page != \"Unknown\":\n",
    "        article['page number'] = end_page - article['starting page'] + 1\n",
    "    else:\n",
    "        article['page number'] = \"Unknown\"\n",
    "    \n",
    "# Retain only valid articles\n",
    "subscribe_index = next((i for i, article in enumerate(articles) if article['title'] == 'Subscribe'), None)\n",
    "if subscribe_index is not None:\n",
    "    articles = articles[:subscribe_index]\n",
    "    \n",
    "# Page number in relative\n",
    "editorial_page = next((article['starting page'] for article in articles if article['title'] == 'Editorial'), None)\n",
    "for article in articles:\n",
    "    article['starting page'] = article['starting page'] - editorial_page + 5"
   ]
  },
  {
   "cell_type": "code",
   "execution_count": 7,
   "id": "8e5436a5",
   "metadata": {},
   "outputs": [
    {
     "data": {
      "text/plain": [
       "[{'title': 'Guest editorial',\n",
       "  'subtitle': None,\n",
       "  'starting page': 4,\n",
       "  'page number': 1},\n",
       " {'title': 'Editorial',\n",
       "  'subtitle': None,\n",
       "  'starting page': 5,\n",
       "  'page number': 1},\n",
       " {'title': 'A word from the chairman',\n",
       "  'subtitle': None,\n",
       "  'starting page': 6,\n",
       "  'page number': 1},\n",
       " {'title': 'Postcards',\n",
       "  'subtitle': None,\n",
       "  'starting page': 7,\n",
       "  'page number': 2},\n",
       " {'title': 'The shoulders of giants ',\n",
       "  'subtitle': 'ABB Review publishes its 900th issue',\n",
       "  'starting page': 9,\n",
       "  'page number': 7},\n",
       " {'title': 'Selected innovations in brief',\n",
       "  'subtitle': None,\n",
       "  'starting page': 16,\n",
       "  'page number': 4},\n",
       " {'title': 'bits, and had an interruptible ',\n",
       "  'subtitle': 'architecture with parallel input and output channels. The operator’s console and teletypewriter can be seen in the foreground. The cabinet with the central processor, storage and the input/output system are in the background. This computer and its applications are described in several articles in Brown Boveri Review',\n",
       "  'starting page': 20,\n",
       "  'page number': 14},\n",
       " {'title': 'Cutting the cables ',\n",
       "  'subtitle': '5Gforprocessautomation',\n",
       "  'starting page': 34,\n",
       "  'page number': 6},\n",
       " {'title': 'Secure onboarding',\n",
       "  'subtitle': 'OPC UA helps make industrial communication secure',\n",
       "  'starting page': 40,\n",
       "  'page number': 0},\n",
       " {'title': 'of this issue of ABB ',\n",
       "  'subtitle': 'Review.',\n",
       "  'starting page': 40,\n",
       "  'page number': 4},\n",
       " {'title': 'Perfect circle',\n",
       "  'subtitle': 'Digitalization and sustainability',\n",
       "  'starting page': 44,\n",
       "  'page number': 6},\n",
       " {'title': 'Digital future',\n",
       "  'subtitle': 'ABB’s next generation drive control platform',\n",
       "  'starting page': 50,\n",
       "  'page number': 6},\n",
       " {'title': 'A circular future ',\n",
       "  'subtitle': 'Sustainability in the life of an electric motor',\n",
       "  'starting page': 56,\n",
       "  'page number': 6},\n",
       " {'title': 'BORDLINE® ESS',\n",
       "  'subtitle': 'High-performance lithium-ion batteries for rolling stock',\n",
       "  'starting page': 62,\n",
       "  'page number': 4},\n",
       " {'title': 'Grid support',\n",
       "  'subtitle': 'Synchronous condensers pro- vide inertia for grid stabilization',\n",
       "  'starting page': 66,\n",
       "  'page number': 6},\n",
       " {'title': 'Breaking ground',\n",
       "  'subtitle': 'Solid-state protection for DC distribution onboard',\n",
       "  'starting page': 72,\n",
       "  'page number': 8},\n",
       " {'title': 'OPC UA', 'subtitle': None, 'starting page': 80, 'page number': 1}]"
      ]
     },
     "execution_count": 7,
     "metadata": {},
     "output_type": "execute_result"
    }
   ],
   "source": [
    "articles"
   ]
  },
  {
   "cell_type": "code",
   "execution_count": null,
   "id": "e8d6d3dd",
   "metadata": {},
   "outputs": [],
   "source": []
  }
 ],
 "metadata": {
  "kernelspec": {
   "display_name": "Python 3 (ipykernel)",
   "language": "python",
   "name": "python3"
  },
  "language_info": {
   "codemirror_mode": {
    "name": "ipython",
    "version": 3
   },
   "file_extension": ".py",
   "mimetype": "text/x-python",
   "name": "python",
   "nbconvert_exporter": "python",
   "pygments_lexer": "ipython3",
   "version": "3.10.11"
  }
 },
 "nbformat": 4,
 "nbformat_minor": 5
}
