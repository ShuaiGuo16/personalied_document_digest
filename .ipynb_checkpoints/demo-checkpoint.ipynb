{
 "cells": [
  {
   "cell_type": "markdown",
   "id": "09d03a8a",
   "metadata": {},
   "source": [
    "### Objective\n",
    "\n",
    "In this notebook, we create a simple demo to showcase the concept of role-playing dual-chatbot for digesting ABB Review articles."
   ]
  },
  {
   "cell_type": "markdown",
   "id": "a3bcb7b3",
   "metadata": {},
   "source": [
    "### 1. Import libraries"
   ]
  },
  {
   "cell_type": "code",
   "execution_count": 1,
   "id": "de632be3",
   "metadata": {},
   "outputs": [],
   "source": [
    "from chatbot import JournalistBot, AuthorBot\n",
    "from embedding_engine import Embedder\n",
    "from topic_classifier import TopicClassifier\n",
    "import utilities\n",
    "from pdf2image import convert_from_path\n",
    "import os\n",
    "\n",
    "import ipywidgets as widgets\n",
    "from IPython.display import display, HTML"
   ]
  },
  {
   "cell_type": "markdown",
   "id": "1eeb34d2",
   "metadata": {},
   "source": [
    "We consider 4 issues of ABB Review"
   ]
  },
  {
   "cell_type": "code",
   "execution_count": 2,
   "id": "4566e937",
   "metadata": {},
   "outputs": [],
   "source": [
    "filenames = {\n",
    "    'ABB Review 2022-03': 'ABB Review_03_2022_layout complete_EN_72-200dpi.pdf',\n",
    "    'ABB Review 2023-01': 'ABB Review_01_2023_layout complete_EN_72-300dpi.pdf',\n",
    "    'ABB Review 2023-02': 'ABB Review_02_2023_layout complete_EN_72-300dpi.pdf',\n",
    "    'ABB Review 2023-03': 'ABB Review_03_2023_layout complete_EN_300dpi.pdf',\n",
    "}"
   ]
  },
  {
   "cell_type": "markdown",
   "id": "2ded2148",
   "metadata": {},
   "source": [
    "### 2. User journey"
   ]
  },
  {
   "cell_type": "markdown",
   "id": "b2ba067e",
   "metadata": {},
   "source": [
    "We instantiate an empty dictionary to store user selections."
   ]
  },
  {
   "cell_type": "code",
   "execution_count": 3,
   "id": "f64b6af3",
   "metadata": {},
   "outputs": [],
   "source": [
    "user_journey = {}"
   ]
  },
  {
   "cell_type": "markdown",
   "id": "18bd0a1c",
   "metadata": {},
   "source": [
    "#### 2.1 User selects journal issue "
   ]
  },
  {
   "cell_type": "code",
   "execution_count": 4,
   "id": "48cfb5a7",
   "metadata": {},
   "outputs": [
    {
     "data": {
      "text/html": [
       "<span style=\"font-weight:bold; font-size:18px;\">Journal Issues:</span>"
      ],
      "text/plain": [
       "<IPython.core.display.HTML object>"
      ]
     },
     "metadata": {},
     "output_type": "display_data"
    },
    {
     "data": {
      "application/vnd.jupyter.widget-view+json": {
       "model_id": "8bf3b80aa4494dfc84c09521e53b64d2",
       "version_major": 2,
       "version_minor": 0
      },
      "text/plain": [
       "HBox(children=(RadioButtons(options=('ABB Review 2022-03', 'ABB Review 2023-01', 'ABB Review 2023-02', 'ABB Re…"
      ]
     },
     "metadata": {},
     "output_type": "display_data"
    }
   ],
   "source": [
    "# Create radio buttons for the journal issues\n",
    "journal_issues = ['ABB Review 2022-03', 'ABB Review 2023-01', \n",
    "                  'ABB Review 2023-02', 'ABB Review 2023-03']\n",
    "\n",
    "# User selection\n",
    "radio_buttons = widgets.RadioButtons(\n",
    "    options=journal_issues,\n",
    "    value=None,  \n",
    "    description='',\n",
    "    disabled=False\n",
    ")\n",
    "\n",
    "output = widgets.Output()\n",
    "\n",
    "# Display UI elements\n",
    "display(HTML('<span style=\"font-weight:bold; font-size:18px;\">Journal Issues:</span>'))\n",
    "display(widgets.HBox([radio_buttons, output]))\n",
    "\n",
    "# Function to display the first page of the selected journal\n",
    "def show_journal_cover(journal_name):  \n",
    "    file_path = os.path.join(\"./papers\", filenames[journal_name])\n",
    "    \n",
    "    # Convert the first page of the PDF to an image\n",
    "    images = convert_from_path(file_path, first_page=1, last_page=1, size=(300, None))\n",
    "    \n",
    "    # Clear the previous image\n",
    "    output.clear_output()\n",
    "\n",
    "    # Display the new image\n",
    "    with output:\n",
    "        display(images[0])\n",
    "\n",
    "# Function to update and display the selected value\n",
    "def on_value_change(change):\n",
    "    if change['new'] in filenames:\n",
    "        user_journey[\"selected_journal\"] = filenames[change['new']]\n",
    "        show_journal_cover(change['new'])\n",
    "\n",
    "# Set up an observer to watch for changes\n",
    "radio_buttons.observe(on_value_change, names='value')"
   ]
  },
  {
   "cell_type": "markdown",
   "id": "d6bf48de",
   "metadata": {},
   "source": [
    "#### 2.2 User selects article\n",
    "\n",
    "We first extract articles in the user-selected issue."
   ]
  },
  {
   "cell_type": "code",
   "execution_count": 5,
   "id": "411b8f21",
   "metadata": {},
   "outputs": [],
   "source": [
    "articles = utilities.extract_articles(user_journey[\"selected_journal\"])\n",
    "print(articles)"
   ]
  },
  {
   "cell_type": "code",
   "execution_count": null,
   "id": "fbb0d3f0",
   "metadata": {},
   "outputs": [],
   "source": []
  }
 ],
 "metadata": {
  "kernelspec": {
   "display_name": "Python 3 (ipykernel)",
   "language": "python",
   "name": "python3"
  },
  "language_info": {
   "codemirror_mode": {
    "name": "ipython",
    "version": 3
   },
   "file_extension": ".py",
   "mimetype": "text/x-python",
   "name": "python",
   "nbconvert_exporter": "python",
   "pygments_lexer": "ipython3",
   "version": "3.10.11"
  }
 },
 "nbformat": 4,
 "nbformat_minor": 5
}
