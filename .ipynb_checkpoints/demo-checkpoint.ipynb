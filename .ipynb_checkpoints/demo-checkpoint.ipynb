{
 "cells": [
  {
   "cell_type": "markdown",
   "id": "09d03a8a",
   "metadata": {},
   "source": [
    "### Objective\n",
    "\n",
    "In this notebook, we create a simple demo to showcase the concept of role-playing dual-chatbot for digesting ABB Review articles."
   ]
  },
  {
   "cell_type": "markdown",
   "id": "a3bcb7b3",
   "metadata": {},
   "source": [
    "### 1. Import libraries"
   ]
  },
  {
   "cell_type": "code",
   "execution_count": 1,
   "id": "de632be3",
   "metadata": {},
   "outputs": [],
   "source": [
    "from chatbot import JournalistBot, AuthorBot\n",
    "from embedding_engine import Embedder\n",
    "from topic_classifier import TopicClassifier\n",
    "import utilities\n",
    "from pdf2image import convert_from_path\n",
    "import PyPDF2\n",
    "import os\n",
    "\n",
    "import ipywidgets as widgets\n",
    "from IPython.display import display, HTML, IFrame"
   ]
  },
  {
   "cell_type": "markdown",
   "id": "1eeb34d2",
   "metadata": {},
   "source": [
    "We consider 4 issues of ABB Review"
   ]
  },
  {
   "cell_type": "code",
   "execution_count": 2,
   "id": "4566e937",
   "metadata": {},
   "outputs": [],
   "source": [
    "filenames = {\n",
    "    'ABB Review 2022-03': 'ABB Review_03_2022_layout complete_EN_72-200dpi.pdf',\n",
    "    'ABB Review 2023-01': 'ABB Review_01_2023_layout complete_EN_72-300dpi.pdf',\n",
    "    'ABB Review 2023-02': 'ABB Review_02_2023_layout complete_EN_72-300dpi.pdf',\n",
    "    'ABB Review 2023-03': 'ABB Review_03_2023_layout complete_EN_300dpi.pdf',\n",
    "}"
   ]
  },
  {
   "cell_type": "markdown",
   "id": "2ded2148",
   "metadata": {},
   "source": [
    "### 2. User journey"
   ]
  },
  {
   "cell_type": "markdown",
   "id": "b2ba067e",
   "metadata": {},
   "source": [
    "We instantiate an empty dictionary to store user selections."
   ]
  },
  {
   "cell_type": "code",
   "execution_count": 3,
   "id": "f64b6af3",
   "metadata": {},
   "outputs": [],
   "source": [
    "user_journey = {}"
   ]
  },
  {
   "cell_type": "markdown",
   "id": "18bd0a1c",
   "metadata": {},
   "source": [
    "#### 2.1 User selects journal issue "
   ]
  },
  {
   "cell_type": "code",
   "execution_count": 4,
   "id": "48cfb5a7",
   "metadata": {},
   "outputs": [
    {
     "data": {
      "text/html": [
       "<span style=\"font-weight:bold; font-size:18px;\">Journal Issues:</span>"
      ],
      "text/plain": [
       "<IPython.core.display.HTML object>"
      ]
     },
     "metadata": {},
     "output_type": "display_data"
    },
    {
     "data": {
      "application/vnd.jupyter.widget-view+json": {
       "model_id": "f9a887109c874737bc9c1ab2c603d228",
       "version_major": 2,
       "version_minor": 0
      },
      "text/plain": [
       "HBox(children=(RadioButtons(options=('ABB Review 2022-03', 'ABB Review 2023-01', 'ABB Review 2023-02', 'ABB Re…"
      ]
     },
     "metadata": {},
     "output_type": "display_data"
    }
   ],
   "source": [
    "# Create radio buttons for the journal issues\n",
    "journal_issues = ['ABB Review 2022-03', 'ABB Review 2023-01', \n",
    "                  'ABB Review 2023-02', 'ABB Review 2023-03']\n",
    "\n",
    "# User selection\n",
    "issue_buttons = widgets.RadioButtons(\n",
    "    options=journal_issues,\n",
    "    value=None,  \n",
    "    description='',\n",
    "    disabled=False\n",
    ")\n",
    "\n",
    "output = widgets.Output()\n",
    "\n",
    "# Display UI elements\n",
    "display(HTML('<span style=\"font-weight:bold; font-size:18px;\">Journal Issues:</span>'))\n",
    "display(widgets.HBox([issue_buttons, output]))\n",
    "\n",
    "# Function to display the first page of the selected journal\n",
    "def show_journal_cover(journal_name):  \n",
    "    file_path = os.path.join(\"./papers\", filenames[journal_name])\n",
    "    \n",
    "    # Convert the first page of the PDF to an image\n",
    "    images = convert_from_path(file_path, first_page=1, last_page=1, size=(300, None))\n",
    "    \n",
    "    # Clear the previous image\n",
    "    output.clear_output()\n",
    "\n",
    "    # Display the new image\n",
    "    with output:\n",
    "        display(images[0])\n",
    "\n",
    "# Function to update and display the selected value\n",
    "def on_value_change(change):\n",
    "    if change['new'] in filenames:\n",
    "        user_journey[\"selected_journal\"] = filenames[change['new']]\n",
    "        show_journal_cover(change['new'])\n",
    "\n",
    "# Set up an observer to watch for changes\n",
    "issue_buttons.observe(on_value_change, names='value')"
   ]
  },
  {
   "cell_type": "markdown",
   "id": "d6bf48de",
   "metadata": {},
   "source": [
    "#### 2.2 User selects article\n",
    "\n",
    "We first extract articles in the user-selected issue."
   ]
  },
  {
   "cell_type": "code",
   "execution_count": 5,
   "id": "411b8f21",
   "metadata": {},
   "outputs": [
    {
     "name": "stdout",
     "output_type": "stream",
     "text": [
      "[{'start_page': 5, 'title': 'Editorial', 'subtitle': '', 'length': 5}, {'start_page': 10, 'title': 'For greater results', 'subtitle': 'High Speed Alignment – visual servoing technology for ultra- high precision assembly', 'length': 8}, {'start_page': 18, 'title': 'The right moves', 'subtitle': 'Software that optimizes robot performance', 'length': 6}, {'start_page': 24, 'title': 'The DCS of tomorrow', 'subtitle': 'Envisioning the future of process automation', 'length': 6}, {'start_page': 30, 'title': 'Safe cyber space', 'subtitle': 'ABB Ability™ Cyber Security Workplace', 'length': 6}, {'start_page': 36, 'title': 'The virtues of  virtualization', 'subtitle': 'Virtual protection and control for medium-  voltage substations', 'length': 6}, {'start_page': 42, 'title': 'Health monitor', 'subtitle': 'Better service decisions with ABB Ability™ Smart Master', 'length': 4}, {'start_page': 46, 'title': 'Access is everything', 'subtitle': 'Opening the door to a world of information', 'length': 8}, {'start_page': 54, 'title': 'Clean machine', 'subtitle': 'Carbon emissions from EV battery production and use', 'length': 4}, {'start_page': 58, 'title': 'Plug-in mines', 'subtitle': 'World’s first fully automated charging system for mining trucks', 'length': 6}, {'start_page': 64, 'title': 'Modeling flow', 'subtitle': 'Multiphysics-based reduced order model (ROM) for mine pollution control', 'length': 6}, {'start_page': 70, 'title': 'Industrial Metaverse', 'subtitle': 'How can the Industrial Metaverse help ABB and its customers?', 'length': 1}]\n"
     ]
    }
   ],
   "source": [
    "articles = utilities.extract_articles(user_journey[\"selected_journal\"])\n",
    "print(articles)"
   ]
  },
  {
   "cell_type": "markdown",
   "id": "20580773",
   "metadata": {},
   "source": [
    "We then present the article list for users to select"
   ]
  },
  {
   "cell_type": "code",
   "execution_count": 6,
   "id": "0904be18",
   "metadata": {},
   "outputs": [
    {
     "data": {
      "application/vnd.jupyter.widget-view+json": {
       "model_id": "75c1a93038b14aa589fcaf8479ba2b23",
       "version_major": 2,
       "version_minor": 0
      },
      "text/plain": [
       "HTML(value='<span style=\"font-size: 18px; font-weight: bold;\">List of Articles:</span>', layout=Layout(margin=…"
      ]
     },
     "metadata": {},
     "output_type": "display_data"
    },
    {
     "data": {
      "application/vnd.jupyter.widget-view+json": {
       "model_id": "94a370dfd3314b8db9cd50c865d2de0f",
       "version_major": 2,
       "version_minor": 0
      },
      "text/plain": [
       "GridBox(children=(VBox(children=(ToggleButton(value=False, description='Editorial', layout=Layout(width='90%')…"
      ]
     },
     "metadata": {},
     "output_type": "display_data"
    }
   ],
   "source": [
    "article_widgets = []\n",
    "\n",
    "def toggle_handler(change, article, button):\n",
    "    if change['new']:  # Only act on the 'toggle on' action\n",
    "        user_journey[\"selected_article\"] = article\n",
    "        # Deselect all other buttons\n",
    "        for other_button in all_buttons:\n",
    "            if other_button != button:\n",
    "                other_button.value = False\n",
    "\n",
    "all_buttons = []  # List to store all toggle buttons\n",
    "\n",
    "for article in articles:\n",
    "    title_button = widgets.ToggleButton(\n",
    "        value=False,\n",
    "        description=article['title'],\n",
    "        tooltip=article['title'],\n",
    "        button_style='',\n",
    "        layout=widgets.Layout(width='90%')\n",
    "    )\n",
    "    subtitle_label = widgets.Label(\n",
    "        value=article['subtitle'],\n",
    "        layout=widgets.Layout(margin='0 0 20px 25px')  # Bottom margin added\n",
    "    )\n",
    "    \n",
    "    # Attach the handler to the toggle button's value change event\n",
    "    title_button.observe(lambda change, article=article, button=title_button: toggle_handler(change, article, button), names='value')\n",
    "    all_buttons.append(title_button)\n",
    "    \n",
    "    # Group the button and label in a vertical box (VBox)\n",
    "    group = widgets.VBox([title_button, subtitle_label])\n",
    "    article_widgets.append(group)\n",
    "\n",
    "# Layout the grouped widgets in a two-column grid\n",
    "grid = widgets.GridBox(article_widgets, layout=widgets.Layout(grid_template_columns=\"repeat(2, 50%)\"))\n",
    "\n",
    "# Add a title label\n",
    "title_label = widgets.HTML(value='<span style=\"font-size: 18px; font-weight: bold;\">List of Articles:</span>', layout=widgets.Layout(margin='0 0 10px 0'))\n",
    "\n",
    "\n",
    "display(title_label, grid)"
   ]
  },
  {
   "cell_type": "markdown",
   "id": "c254c7e8",
   "metadata": {},
   "source": [
    "We can also present the original PDF to the user."
   ]
  },
  {
   "cell_type": "code",
   "execution_count": 7,
   "id": "5b2a7944",
   "metadata": {},
   "outputs": [],
   "source": [
    "def split_pdf(input_pdf_path, output_pdf_path, start_page, end_page):\n",
    "    \"\"\"Extracts a range of pages from a PDF and saves it as a new PDF.\n",
    "    \"\"\"\n",
    "    with open(input_pdf_path, 'rb') as source_pdf:\n",
    "        pdf_reader = PyPDF2.PdfReader(source_pdf)\n",
    "        pdf_writer = PyPDF2.PdfWriter()\n",
    "        \n",
    "        for page_num in range(start_page, end_page + 1):\n",
    "            page = pdf_reader.pages[page_num-1]\n",
    "            pdf_writer.add_page(page)\n",
    "        \n",
    "        with open(output_pdf_path, 'wb') as output_pdf:\n",
    "            pdf_writer.write(output_pdf)"
   ]
  },
  {
   "cell_type": "code",
   "execution_count": 8,
   "id": "96bc6433",
   "metadata": {},
   "outputs": [
    {
     "data": {
      "text/html": [
       "\n",
       "        <iframe\n",
       "            width=\"1000\"\n",
       "            height=\"600\"\n",
       "            src=\"./papers/temp.pdf\"\n",
       "            frameborder=\"0\"\n",
       "            allowfullscreen\n",
       "            \n",
       "        ></iframe>\n",
       "        "
      ],
      "text/plain": [
       "<IPython.lib.display.IFrame at 0x1bf1e58eda0>"
      ]
     },
     "metadata": {},
     "output_type": "display_data"
    }
   ],
   "source": [
    "# Extract selected PDF\n",
    "split_pdf(input_pdf_path=\"./papers/\"+user_journey['selected_journal'],\n",
    "         output_pdf_path=\"./papers/temp.pdf\",\n",
    "         start_page=user_journey['selected_article']['start_page'],\n",
    "         end_page=user_journey['selected_article']['start_page']+user_journey['selected_article']['length']-1)\n",
    "\n",
    "# Display selected article\n",
    "display(IFrame(\"./papers/temp.pdf\", width=1000, height=600))"
   ]
  },
  {
   "cell_type": "markdown",
   "id": "5089a81f",
   "metadata": {},
   "source": [
    "#### 2.3 Topic classification\n",
    "\n",
    "Once the article is selected, we can run a topic classification to determine the relevant topics."
   ]
  },
  {
   "cell_type": "code",
   "execution_count": 9,
   "id": "03a1a838",
   "metadata": {},
   "outputs": [],
   "source": [
    "focal_points = {\n",
    "        \n",
    "    'Tech and product insights': {\n",
    "        'description': 'Spotlight on new tech and product',\n",
    "        'target audience': 'R&D engineers'\n",
    "    },\n",
    "    \n",
    "    'Market dynamics': {\n",
    "        'description': 'Explore the market implications',\n",
    "        'target audience': 'marketing professionals'\n",
    "    },\n",
    "    \n",
    "    'Operational transformation': {\n",
    "        'description': 'Insights on optimized processes and operations',\n",
    "        'target audience': 'operational experts & managers'\n",
    "    },\n",
    "    \n",
    "    'Sustainability initiatives': {\n",
    "        'description': \"ABB's contributions to environmental sustainability\",\n",
    "        'target audience': 'sustainability officers'\n",
    "    },\n",
    "    \n",
    "    'Customer experience': {\n",
    "        'description': \"Dive into the end-user benefits and experiences\",\n",
    "        'target audience': 'customers'\n",
    "    },\n",
    "    \n",
    "    'Industry challenges and opportunities': {\n",
    "        'description': \"Peering into hurdles and growth areas\",\n",
    "        'target audience': 'business developers'\n",
    "    },\n",
    "    \n",
    "    'Strategic collaborations': {\n",
    "        'description': \"Highlighting strategic partnerships\",\n",
    "        'target audience': 'partnership managers'\n",
    "    },\n",
    "    \n",
    "    'Strategy innovation': {\n",
    "        'description': \"Unpacking ABB's approaches to business strategies\",\n",
    "        'target audience': 'executives'\n",
    "    },\n",
    "    \n",
    "    'General overview': {\n",
    "        'description': \"A holistic breakdown of the article's key themes\",\n",
    "        'target audience': 'general public'\n",
    "    }\n",
    "}"
   ]
  },
  {
   "cell_type": "code",
   "execution_count": 10,
   "id": "278a5ade",
   "metadata": {},
   "outputs": [
    {
     "name": "stdout",
     "output_type": "stream",
     "text": [
      "Processing 1/7th docs.\n",
      "Processing 3/7th docs.\n",
      "Processing 5/7th docs.\n",
      "Processing 7/7th docs.\n",
      "{'Sustainability initiatives': 5.0, 'Industry challenges and opportunities': 4.285714285714286, 'Tech and product insights': 3.5714285714285716, 'Strategy innovation': 3.5714285714285716, 'Market dynamics': 0.7142857142857142, 'Operational transformation': 0.7142857142857142, 'Strategic collaborations': 0.7142857142857142, 'Customer experience': 0.0}\n"
     ]
    }
   ],
   "source": [
    "# Extract metadata\n",
    "issue_name = user_journey['selected_journal']\n",
    "start_page = user_journey['selected_article']['start_page']\n",
    "end_page = user_journey['selected_article']['start_page'] + user_journey['selected_article']['length'] - 1\n",
    "\n",
    "# Initialize metadata\n",
    "clf = TopicClassifier(issue=issue_name, page_num=[start_page, end_page])\n",
    "relevant_topics = clf.classifier(topic_list=list(focal_points.keys()), desired_max=5, verbose=True)\n",
    "print(relevant_topics)"
   ]
  },
  {
   "cell_type": "markdown",
   "id": "9e616c75",
   "metadata": {},
   "source": [
    "We display the topic options for user to choose"
   ]
  },
  {
   "cell_type": "code",
   "execution_count": 43,
   "id": "1bb7e069",
   "metadata": {},
   "outputs": [
    {
     "data": {
      "application/vnd.jupyter.widget-view+json": {
       "model_id": "6a27fc8990874d209aaa84c6ba2829f9",
       "version_major": 2,
       "version_minor": 0
      },
      "text/plain": [
       "HBox(children=(HTML(value='<b style=\"font-size:16px; margin:0\">List of topics:</b>'), HTML(value='<b style=\"fo…"
      ]
     },
     "metadata": {},
     "output_type": "display_data"
    },
    {
     "data": {
      "application/vnd.jupyter.widget-view+json": {
       "model_id": "61bb655e44394e5b8ba7d25ea9595568",
       "version_major": 2,
       "version_minor": 0
      },
      "text/plain": [
       "HBox(children=(Checkbox(value=False, description='Sustainability initiatives', indent=False), HTML(value='<spa…"
      ]
     },
     "metadata": {},
     "output_type": "display_data"
    },
    {
     "data": {
      "application/vnd.jupyter.widget-view+json": {
       "model_id": "4c48848ec1384c67aa9705e0adff4e41",
       "version_major": 2,
       "version_minor": 0
      },
      "text/plain": [
       "HBox(children=(Checkbox(value=False, description='Industry challenges and opportunities', indent=False), HTML(…"
      ]
     },
     "metadata": {},
     "output_type": "display_data"
    },
    {
     "data": {
      "application/vnd.jupyter.widget-view+json": {
       "model_id": "da8bb728c2ea403693fb7082cab4d361",
       "version_major": 2,
       "version_minor": 0
      },
      "text/plain": [
       "HBox(children=(Checkbox(value=False, description='Tech and product insights', indent=False), HTML(value='<span…"
      ]
     },
     "metadata": {},
     "output_type": "display_data"
    },
    {
     "data": {
      "application/vnd.jupyter.widget-view+json": {
       "model_id": "ed6514157a8c47b5b27c6d2f510a04db",
       "version_major": 2,
       "version_minor": 0
      },
      "text/plain": [
       "HBox(children=(Checkbox(value=False, description='Strategy innovation', indent=False), HTML(value='<span style…"
      ]
     },
     "metadata": {},
     "output_type": "display_data"
    },
    {
     "data": {
      "application/vnd.jupyter.widget-view+json": {
       "model_id": "55b4600c1fa84934acbcfc129a92c5d4",
       "version_major": 2,
       "version_minor": 0
      },
      "text/plain": [
       "HBox(children=(Checkbox(value=False, description='Market dynamics', indent=False), HTML(value='<span style=\"ba…"
      ]
     },
     "metadata": {},
     "output_type": "display_data"
    }
   ],
   "source": [
    "user_journey[\"selected_topics\"] = []\n",
    "\n",
    "def formatted_title(text, font_size=14, margin=\"0\"):\n",
    "    \"\"\"Return an HTML formatted title.\"\"\"\n",
    "    return widgets.HTML(f'<b style=\"font-size:{font_size}px; margin:{margin}\">{text}</b>')\n",
    "\n",
    "# Display column titles\n",
    "font_size = 16  \n",
    "display(widgets.HBox([\n",
    "    formatted_title(\"List of topics:\", font_size),\n",
    "    formatted_title(\"Relevance:\", font_size, \"192px\") \n",
    "]))\n",
    "\n",
    "def colored_boxes(relevance):\n",
    "    full_boxes = int(relevance)  # Number of fully filled boxes\n",
    "    partial_box = relevance - full_boxes  # Fractional part for partially filled boxes\n",
    "    \n",
    "    full_box_html = '<span style=\"background-color:blue; margin-right:3px; display:inline-block; width:10px; height:10px;\"></span>'\n",
    "    partial_box_html = '<span style=\"background-color:blue; margin-right:3px; display:inline-block; width:{}px; height:10px;\"></span>'.format(partial_box * 10)\n",
    "    \n",
    "    return widgets.HTML(''.join([full_box_html for _ in range(full_boxes)]) + \\\n",
    "                        (partial_box_html if partial_box > 0 else ''))\n",
    "\n",
    "def on_checkbox_change(change, topic):\n",
    "    if change['new']:  # If the checkbox is checked\n",
    "        if topic not in user_journey[\"selected_topics\"]:\n",
    "            user_journey[\"selected_topics\"].append(topic)\n",
    "    else:  # If the checkbox is unchecked\n",
    "        if topic in user_journey[\"selected_topics\"]:\n",
    "            user_journey[\"selected_topics\"].remove(topic)\n",
    "\n",
    "\n",
    "# Displaying the checkboxes with colored boxes\n",
    "sorted_topics = dict(sorted(relevant_topics.items(), key=lambda item: item[1], reverse=True)[:5])\n",
    "for topic, relevance in sorted_topics.items():\n",
    "    checkbox = widgets.Checkbox(value=False, description=topic, indent=False)\n",
    "    checkbox.observe(lambda change, topic=topic: on_checkbox_change(change, topic), names='value')\n",
    "    display(widgets.HBox([checkbox, colored_boxes(relevance)]))"
   ]
  },
  {
   "cell_type": "code",
   "execution_count": 44,
   "id": "eee3be89",
   "metadata": {},
   "outputs": [
    {
     "data": {
      "text/plain": [
       "{'selected_journal': 'ABB Review_02_2023_layout complete_EN_72-300dpi.pdf',\n",
       " 'selected_article': {'start_page': 54,\n",
       "  'title': 'Clean machine',\n",
       "  'subtitle': 'Carbon emissions from EV battery production and use',\n",
       "  'length': 4},\n",
       " 'selected_topics': ['Industry challenges and opportunities',\n",
       "  'Strategy innovation']}"
      ]
     },
     "execution_count": 44,
     "metadata": {},
     "output_type": "execute_result"
    }
   ],
   "source": [
    "user_journey"
   ]
  },
  {
   "cell_type": "markdown",
   "id": "cf8a04a3",
   "metadata": {},
   "source": [
    "#### 2.4 Dual-chatbot conversation"
   ]
  },
  {
   "cell_type": "code",
   "execution_count": null,
   "id": "9e3afa22",
   "metadata": {},
   "outputs": [],
   "source": []
  }
 ],
 "metadata": {
  "kernelspec": {
   "display_name": "Python 3 (ipykernel)",
   "language": "python",
   "name": "python3"
  },
  "language_info": {
   "codemirror_mode": {
    "name": "ipython",
    "version": 3
   },
   "file_extension": ".py",
   "mimetype": "text/x-python",
   "name": "python",
   "nbconvert_exporter": "python",
   "pygments_lexer": "ipython3",
   "version": "3.10.11"
  }
 },
 "nbformat": 4,
 "nbformat_minor": 5
}
