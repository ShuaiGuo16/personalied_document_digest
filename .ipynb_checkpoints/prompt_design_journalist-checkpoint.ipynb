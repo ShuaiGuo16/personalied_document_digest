{
 "cells": [
  {
   "cell_type": "code",
   "execution_count": null,
   "id": "de2bc594",
   "metadata": {},
   "outputs": [],
   "source": [
    "base_prompt = f\"\"\"You are a journalist seeking to gain a deep understanding of a recent \n",
    "article from the company's review on {self.topic}. \n",
    "Your task is to engage with the article's author bot in an interview style, \n",
    "using the provided article summary as a guide. \n",
    "Formulate questions based on the article's content, \n",
    "keeping in mind the objectives of your inquiry.\n",
    "\n",
    "Guidelines:\n",
    "- Be adaptive and responsive to the specifics of each article.\n",
    "- Keep your questions focused, relevant, and succinct.\n",
    "\n",
    "[Summary]: {self.abstract}\n",
    "\"\"\"\n",
    "\n",
    "tech_insight_module = \"- Dive deep into the technological advancements, understand their novelty, and compare them with existing solutions.\"\n",
    "\n",
    "market_impact_module = \"- Investigate the potential market impacts, positioning, advantages, and challenges of the innovation.\"\n",
    "\n",
    "selected_modules = []\n",
    "\n",
    "if \"Tech Insights\" in user_options:\n",
    "    selected_modules.append(tech_insight_module)\n",
    "\n",
    "if \"Market Impact\" in user_options:\n",
    "    selected_modules.append(market_impact_module)\n",
    "\n",
    "dynamic_module = \"\\n\".join(selected_modules)\n",
    "\n",
    "full_prompt = f\"{base_prompt}\\n\\nObjectives:\\n{dynamic_module}\"\n"
   ]
  }
 ],
 "metadata": {
  "kernelspec": {
   "display_name": "Python 3 (ipykernel)",
   "language": "python",
   "name": "python3"
  },
  "language_info": {
   "codemirror_mode": {
    "name": "ipython",
    "version": 3
   },
   "file_extension": ".py",
   "mimetype": "text/x-python",
   "name": "python",
   "nbconvert_exporter": "python",
   "pygments_lexer": "ipython3",
   "version": "3.8.12"
  }
 },
 "nbformat": 4,
 "nbformat_minor": 5
}
