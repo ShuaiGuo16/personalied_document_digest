{
 "cells": [
  {
   "cell_type": "markdown",
   "id": "b68bc01a",
   "metadata": {},
   "source": [
    "### Objective\n",
    "\n",
    "In this notebook, we will try to automatically extract the page numbers of an ABB review issue."
   ]
  },
  {
   "cell_type": "code",
   "execution_count": 1,
   "id": "6434c87a",
   "metadata": {},
   "outputs": [],
   "source": [
    "from langchain.document_loaders import PyMuPDFLoader\n",
    "import re"
   ]
  },
  {
   "cell_type": "code",
   "execution_count": 2,
   "id": "8a079f17",
   "metadata": {},
   "outputs": [],
   "source": [
    "# issue_name = 'ABB Review_03_2023_layout complete_EN_300dpi'\n",
    "issue_name = 'ABB Review_02_2023_layout complete_EN_72-300dpi'\n",
    "loader = PyMuPDFLoader(\"./papers/\"+issue_name+\".pdf\")\n",
    "raw_documents = loader.load()\n",
    "TOC_page = 3\n",
    "TOC = raw_documents[TOC_page-1].page_content\n",
    "\n",
    "# Remove font issue\n",
    "TOC = TOC.replace('�', '')"
   ]
  },
  {
   "cell_type": "code",
   "execution_count": 3,
   "id": "6107e286",
   "metadata": {},
   "outputs": [],
   "source": [
    "def extract_articles(content):\n",
    "    # Split content by potential page numbers and extract the sections\n",
    "    sections = re.split(r'\\b(\\d{1,4})\\b', content)\n",
    "    \n",
    "    # Create a list to store extracted articles\n",
    "    articles = []\n",
    "    \n",
    "    # Iterate over sections to identify articles\n",
    "    for i in range(1, len(sections) - 1, 2):\n",
    "        # Check if the section following the number looks like an article title\n",
    "        potential_title_section = sections[i+1].strip().split(\"\\n\")\n",
    "        \n",
    "        # If the section is too short or starts with non-alphabetical character, it's likely not a title\n",
    "        if len(potential_title_section) < 1 or (potential_title_section[0] and not potential_title_section[0][0].isalpha()):\n",
    "            continue\n",
    "        \n",
    "        # Extract title, subtitle, and category\n",
    "        title = potential_title_section[0]\n",
    "        if len(title)>0:\n",
    "        \n",
    "            # Check for category and subtitle indicators\n",
    "            subtitle = []\n",
    "            for line in potential_title_section[1:]:\n",
    "                if '—' in line:\n",
    "                    break\n",
    "                else:\n",
    "                    subtitle.append(line.strip())\n",
    "\n",
    "            subtitle = \" \".join(subtitle) if subtitle else None\n",
    "\n",
    "            # Add the article title, subtitle, category, and page number to the list\n",
    "            articles.append({\n",
    "                \"title\": title,\n",
    "                \"subtitle\": subtitle,\n",
    "                \"starting page\": int(sections[i])\n",
    "            })\n",
    "    \n",
    "    return articles"
   ]
  },
  {
   "cell_type": "code",
   "execution_count": 5,
   "id": "2567c491",
   "metadata": {},
   "outputs": [],
   "source": [
    "# Extract final articles with titles, subtitles, and categories\n",
    "articles = extract_articles(TOC)\n",
    "\n",
    "# Rearrange artical order\n",
    "articles.sort(key=lambda x: int(x['starting page']))\n",
    "\n",
    "# Infer ending page\n",
    "end_pages = []\n",
    "for i in range(len(articles) - 1):\n",
    "    end_pages.append(int(articles[i+1]['starting page']) - 1)\n",
    "    \n",
    "# Add placeholder for the last article since we don't have its end page\n",
    "end_pages.append(\"Unknown\")\n",
    "\n",
    "# Attach end page to articles\n",
    "for article, end_page in zip(articles, end_pages):\n",
    "    if end_page != \"Unknown\":\n",
    "        article['page number'] = end_page - article['starting page'] + 1\n",
    "    else:\n",
    "        article['page number'] = \"Unknown\"\n",
    "    \n",
    "# Retain only valid articles\n",
    "subscribe_index = next((i for i, article in enumerate(articles) if article['title'] == 'Subscribe'), None)\n",
    "if subscribe_index is not None:\n",
    "    articles = articles[:subscribe_index]\n",
    "    \n",
    "# Page number in relative\n",
    "editorial_page = next((article['starting page'] for article in articles if article['title'] == 'Editorial'), None)\n",
    "for article in articles:\n",
    "    article['starting page'] = article['starting page'] - editorial_page + 5"
   ]
  },
  {
   "cell_type": "code",
   "execution_count": 6,
   "id": "8e5436a5",
   "metadata": {},
   "outputs": [
    {
     "data": {
      "text/plain": [
       "[{'title': 'pp.', 'subtitle': None, 'starting page': -59, 'page number': 0},\n",
       " {'title': 'pp.', 'subtitle': None, 'starting page': -59, 'page number': 15},\n",
       " {'title': 'the acknowledgments ',\n",
       "  'subtitle': 'should read: “The authors wish to acknowledge the outstanding contribu- tions of colleagues from ABB Corporate Research, Västerås, Sweden and of colleagues in Ericsson R&D” The authors and editors of ABB Review apologize for these errors.',\n",
       "  'starting page': -44,\n",
       "  'page number': 49},\n",
       " {'title': 'Editorial',\n",
       "  'subtitle': None,\n",
       "  'starting page': 5,\n",
       "  'page number': 5},\n",
       " {'title': 'For greater results',\n",
       "  'subtitle': 'High Speed Alignment – visual servoing technology for ultra- high precision assembly',\n",
       "  'starting page': 10,\n",
       "  'page number': 8},\n",
       " {'title': 'The right moves',\n",
       "  'subtitle': 'Software that optimizes robot performance',\n",
       "  'starting page': 18,\n",
       "  'page number': 6},\n",
       " {'title': 'The DCS of tomorrow',\n",
       "  'subtitle': 'Envisioning the future of process automation',\n",
       "  'starting page': 24,\n",
       "  'page number': 6},\n",
       " {'title': 'Safe cyber space',\n",
       "  'subtitle': 'ABB Ability™ Cyber Security Workplace',\n",
       "  'starting page': 30,\n",
       "  'page number': 6},\n",
       " {'title': 'The virtues of  virtualization',\n",
       "  'subtitle': 'Virtual protection and control for medium- voltage substations',\n",
       "  'starting page': 36,\n",
       "  'page number': 6},\n",
       " {'title': 'Health monitor',\n",
       "  'subtitle': 'Better service decisions with ABB Ability™ Smart Master',\n",
       "  'starting page': 42,\n",
       "  'page number': 4},\n",
       " {'title': 'Access is everything',\n",
       "  'subtitle': 'Opening the door to a world of information',\n",
       "  'starting page': 46,\n",
       "  'page number': 8},\n",
       " {'title': 'Clean machine',\n",
       "  'subtitle': 'Carbon emissions from EV battery production and use',\n",
       "  'starting page': 54,\n",
       "  'page number': 4},\n",
       " {'title': 'Plug-in mines',\n",
       "  'subtitle': 'World’s first fully automated charging system for mining trucks',\n",
       "  'starting page': 58,\n",
       "  'page number': 6},\n",
       " {'title': 'Modeling flow',\n",
       "  'subtitle': 'Multiphysics-based reduced order model (ROM) for mine pollution control',\n",
       "  'starting page': 64,\n",
       "  'page number': 6},\n",
       " {'title': 'Industrial Metaverse',\n",
       "  'subtitle': 'How can the Industrial Metaverse help ABB and its customers?',\n",
       "  'starting page': 70,\n",
       "  'page number': 1}]"
      ]
     },
     "execution_count": 6,
     "metadata": {},
     "output_type": "execute_result"
    }
   ],
   "source": [
    "articles"
   ]
  }
 ],
 "metadata": {
  "kernelspec": {
   "display_name": "Python 3 (ipykernel)",
   "language": "python",
   "name": "python3"
  },
  "language_info": {
   "codemirror_mode": {
    "name": "ipython",
    "version": 3
   },
   "file_extension": ".py",
   "mimetype": "text/x-python",
   "name": "python",
   "nbconvert_exporter": "python",
   "pygments_lexer": "ipython3",
   "version": "3.10.11"
  }
 },
 "nbformat": 4,
 "nbformat_minor": 5
}
