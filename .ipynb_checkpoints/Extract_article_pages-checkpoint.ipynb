{
 "cells": [
  {
   "cell_type": "markdown",
   "id": "b68bc01a",
   "metadata": {},
   "source": [
    "### Objective\n",
    "\n",
    "In this notebook, we will try to automatically extract the page numbers of an ABB review issue."
   ]
  },
  {
   "cell_type": "code",
   "execution_count": 1,
   "id": "6434c87a",
   "metadata": {},
   "outputs": [],
   "source": [
    "from langchain.document_loaders import PyMuPDFLoader, PyPDFLoader\n",
    "import re"
   ]
  },
  {
   "cell_type": "code",
   "execution_count": 7,
   "id": "8a079f17",
   "metadata": {},
   "outputs": [],
   "source": [
    "# issue_name = 'ABB Review_03_2023_layout complete_EN_300dpi'\n",
    "issue_name = 'ABB Review_02_2023_layout complete_EN_72-300dpi'\n",
    "# issue_name = 'ABB Review_01_2023_layout complete_EN_72-300dpi'\n",
    "loader = PyPDFLoader(\"./papers/\"+issue_name+\".pdf\")\n",
    "raw_documents = loader.load()\n",
    "TOC_page = 3\n",
    "TOC = raw_documents[TOC_page-1].page_content\n",
    "\n",
    "# Remove font issue\n",
    "TOC = TOC.replace('�', '')"
   ]
  },
  {
   "cell_type": "code",
   "execution_count": 8,
   "id": "4187a715",
   "metadata": {},
   "outputs": [
    {
     "data": {
      "text/plain": [
       "'02|202385\\n— \\nAssets in motion\\n136 Clean machine\\nCarbon emissions from EV \\nbattery production and use\\n140 Plug-in mines\\nWorld’s first fully automated \\ncharging system for mining \\ntrucks\\n146 Modeling flow\\nMultiphysics-based reduced \\n order model (ROM) for mine \\npollution control\\n— \\nBuzzword Demystifier\\n152 Industrial Metaverse\\nHow can the Industrial \\nMetaverse help ABB and its \\n customers?\\n—\\n153 Subscribe\\n153 French and Spanish translations\\n153 Imprint—\\n87\\t Editorial\\n— \\n88\\t 2022\\tABB\\tResearch\\tAward\\t\\n  Prestigious award for work on \\nconnected device security\\n— \\nEnhanced knowledge\\n92 For greater results\\nHigh Speed Alignment – visual \\nservoing technology for ultra- \\nhigh precision assembly\\n100 The right moves\\nSoftware that optimizes robot \\nperformance\\n106 The DCS of tomorrow\\nEnvisioning the future of process \\nautomation\\n112 Safe cyber space\\n  ABB Ability™ Cyber Security \\nWorkplace\\n118 The virtues of  virtualization\\n  Virtual protection and control for \\nmedium-  voltage substations\\n124 Health monitor\\n  Better service decisions with \\nABB Ability™ Smart Master\\n128 Access is everything\\n  Opening the door to a world of \\ninformation\\n—\\nCorrigendum\\n \\n“The shoulders of \\ngiants”, ABB Review  1/23 \\npp. 9 – 15: On page 11 \\n(caption of fig 02) and \\npage 13 (first paragraph), \\nthe name of ASEA’s \\ntechnology publication \\nshould read ASEA Jour -\\nnal, not ASEA Review. \\n “Cutting the cables”,  \\nABB Review  1/23 pp. \\n34 – 39: The following \\nco-author was omitted: \\nAbdulkadir Karaagac, \\nABB Corporate Research \\nLadenburg, Germany, \\nabdulkadir.karaagac@\\nde.abb.com. On page 38 \\nthe acknowledgments \\nshould read: “The authors wish to acknowledge the \\noutstanding contribu -\\ntions of colleagues from \\nABB Corporate Research, \\nVästerås, Sweden and of \\ncolleagues in Ericsson \\nR&D”\\n \\nThe authors and editors \\nof ABB Review apologize \\nfor these errors.—\\nPage numbering\\nReaders will be pleased \\nto notice that from this \\nyear we have returned to \\nacademic journal page \\nnumbering, meaning page \\nnumbers run contiguously \\nthroughout the four \\neditions of the year.\\nOur intention is to make \\nreferencing easier for the \\nscientific community.'"
      ]
     },
     "execution_count": 8,
     "metadata": {},
     "output_type": "execute_result"
    }
   ],
   "source": [
    "TOC"
   ]
  },
  {
   "cell_type": "code",
   "execution_count": 9,
   "id": "24c6e44f",
   "metadata": {},
   "outputs": [],
   "source": [
    "# Split the sections\n",
    "sections = TOC.split('\\n')"
   ]
  },
  {
   "cell_type": "code",
   "execution_count": 10,
   "id": "9d7006e1",
   "metadata": {},
   "outputs": [
    {
     "data": {
      "text/plain": [
       "['02|202385',\n",
       " '— ',\n",
       " 'Assets in motion',\n",
       " '136 Clean machine',\n",
       " 'Carbon emissions from EV ',\n",
       " 'battery production and use',\n",
       " '140 Plug-in mines',\n",
       " 'World’s first fully automated ',\n",
       " 'charging system for mining ',\n",
       " 'trucks',\n",
       " '146 Modeling flow',\n",
       " 'Multiphysics-based reduced ',\n",
       " ' order model (ROM) for mine ',\n",
       " 'pollution control',\n",
       " '— ',\n",
       " 'Buzzword Demystifier',\n",
       " '152 Industrial Metaverse',\n",
       " 'How can the Industrial ',\n",
       " 'Metaverse help ABB and its ',\n",
       " ' customers?',\n",
       " '—',\n",
       " '153 Subscribe',\n",
       " '153 French and Spanish translations',\n",
       " '153 Imprint—',\n",
       " '87\\t Editorial',\n",
       " '— ',\n",
       " '88\\t 2022\\tABB\\tResearch\\tAward\\t',\n",
       " '  Prestigious award for work on ',\n",
       " 'connected device security',\n",
       " '— ',\n",
       " 'Enhanced knowledge',\n",
       " '92 For greater results',\n",
       " 'High Speed Alignment – visual ',\n",
       " 'servoing technology for ultra- ',\n",
       " 'high precision assembly',\n",
       " '100 The right moves',\n",
       " 'Software that optimizes robot ',\n",
       " 'performance',\n",
       " '106 The DCS of tomorrow',\n",
       " 'Envisioning the future of process ',\n",
       " 'automation',\n",
       " '112 Safe cyber space',\n",
       " '  ABB Ability™ Cyber Security ',\n",
       " 'Workplace',\n",
       " '118 The virtues of  virtualization',\n",
       " '  Virtual protection and control for ',\n",
       " 'medium-  voltage substations',\n",
       " '124 Health monitor',\n",
       " '  Better service decisions with ',\n",
       " 'ABB Ability™ Smart Master',\n",
       " '128 Access is everything',\n",
       " '  Opening the door to a world of ',\n",
       " 'information',\n",
       " '—',\n",
       " 'Corrigendum',\n",
       " ' ',\n",
       " '“The shoulders of ',\n",
       " 'giants”, ABB Review  1/23 ',\n",
       " 'pp. 9 – 15: On page 11 ',\n",
       " '(caption of fig 02) and ',\n",
       " 'page 13 (first paragraph), ',\n",
       " 'the name of ASEA’s ',\n",
       " 'technology publication ',\n",
       " 'should read ASEA Jour -',\n",
       " 'nal, not ASEA Review. ',\n",
       " ' “Cutting the cables”,  ',\n",
       " 'ABB Review  1/23 pp. ',\n",
       " '34 – 39: The following ',\n",
       " 'co-author was omitted: ',\n",
       " 'Abdulkadir Karaagac, ',\n",
       " 'ABB Corporate Research ',\n",
       " 'Ladenburg, Germany, ',\n",
       " 'abdulkadir.karaagac@',\n",
       " 'de.abb.com. On page 38 ',\n",
       " 'the acknowledgments ',\n",
       " 'should read: “The authors wish to acknowledge the ',\n",
       " 'outstanding contribu -',\n",
       " 'tions of colleagues from ',\n",
       " 'ABB Corporate Research, ',\n",
       " 'Västerås, Sweden and of ',\n",
       " 'colleagues in Ericsson ',\n",
       " 'R&D”',\n",
       " ' ',\n",
       " 'The authors and editors ',\n",
       " 'of ABB Review apologize ',\n",
       " 'for these errors.—',\n",
       " 'Page numbering',\n",
       " 'Readers will be pleased ',\n",
       " 'to notice that from this ',\n",
       " 'year we have returned to ',\n",
       " 'academic journal page ',\n",
       " 'numbering, meaning page ',\n",
       " 'numbers run contiguously ',\n",
       " 'throughout the four ',\n",
       " 'editions of the year.',\n",
       " 'Our intention is to make ',\n",
       " 'referencing easier for the ',\n",
       " 'scientific community.']"
      ]
     },
     "execution_count": 10,
     "metadata": {},
     "output_type": "execute_result"
    }
   ],
   "source": [
    "sections"
   ]
  },
  {
   "cell_type": "code",
   "execution_count": 4,
   "id": "90d6cabb",
   "metadata": {
    "scrolled": false
   },
   "outputs": [
    {
     "name": "stdout",
     "output_type": "stream",
     "text": [
      "01|20233\n",
      "— \n",
      "Transportation  \n",
      "and efficiency\n",
      "56 A circular future \n",
      "Sustainability in the life of an \n",
      "electric motor\n",
      "62 BORDLINE® ESS\n",
      "High-performance lithium-ion \n",
      "batteries for rolling stock  \n",
      "66 Grid support\n",
      "Synchronous condensers pro -\n",
      "vide inertia for grid stabilization\n",
      "72 Breaking ground\n",
      "Solid-state protection for DC \n",
      "distribution onboard\n",
      "— \n",
      "Buzzword Demystifier\n",
      "80 OPC UA\n",
      "—\n",
      "81 Subscribe\n",
      "81 French and Spanish translations\n",
      "81 Imprint—\n",
      "04\t Guest editorial\n",
      "05\t Editorial\n",
      "— \n",
      "900th edition\n",
      "06\t A word from the chairman\n",
      "07\t Postcards\n",
      "09 The shoulders of giants \n",
      "ABB Review publishes its  \n",
      "900th issue\n",
      "— \n",
      "Best innovations\n",
      "16 Selected innovations in brief\n",
      "— \n",
      "Digitalization\n",
      "34 Cutting the cables \n",
      "5G\tfor\tprocess\tautomation\n",
      "40 Secure onboarding\n",
      "OPC UA helps make industrial \n",
      "communication secure\n",
      "44 Perfect circle\n",
      "Digitalization and sustainability\n",
      "50 Digital future\n",
      "ABB’s next generation drive \n",
      " control platform—\n",
      "Cover pictures\n",
      "The picture on the left shows a DP200 \n",
      "computer. This computer was created \n",
      "by Brown Boveri for advanced tasks \n",
      "in process control. It could store \n",
      "4,096 words (expandable to 32,768) \n",
      "of 20 bits, and had an interruptible \n",
      "architecture with parallel input and \n",
      "output channels. The operator’s \n",
      "console and teletypewriter can be \n",
      "seen in the foreground. The cabinet \n",
      "with the central processor, storage \n",
      "and the input/output system are in \n",
      "the background. This computer and its \n",
      "applications are described in several \n",
      "articles in Brown Boveri Review \n",
      "5-6/1965. This issue can be accessed \n",
      "through the QR code below.\n",
      " \n",
      " \n",
      "The comparison picture on the right \n",
      "shows a modern control room. See \n",
      "also page 40 of this issue of ABB \n",
      "Review.\n"
     ]
    }
   ],
   "source": [
    "print(TOC)"
   ]
  },
  {
   "cell_type": "code",
   "execution_count": null,
   "id": "02366d54",
   "metadata": {},
   "outputs": [],
   "source": [
    "sections = re.split(r'\\b(\\d{1,4})\\b', TOC)"
   ]
  },
  {
   "cell_type": "code",
   "execution_count": null,
   "id": "109ddfcb",
   "metadata": {},
   "outputs": [],
   "source": [
    "sections"
   ]
  },
  {
   "cell_type": "code",
   "execution_count": null,
   "id": "729e3c78",
   "metadata": {},
   "outputs": [],
   "source": [
    "for i in range(1, len(sections) - 1, 2):\n",
    "    # Check if the section following the number looks like an article title\n",
    "    potential_title_section = sections[i+1].strip().split(\"\\n\")\n",
    "    print(potential_title_section)"
   ]
  },
  {
   "cell_type": "code",
   "execution_count": null,
   "id": "9dab9da6",
   "metadata": {},
   "outputs": [],
   "source": [
    "potential_title_section = sections[-1].strip().split(\"\\n\")"
   ]
  },
  {
   "cell_type": "code",
   "execution_count": null,
   "id": "1f6acc4c",
   "metadata": {},
   "outputs": [],
   "source": [
    "potential_title_section"
   ]
  },
  {
   "cell_type": "code",
   "execution_count": null,
   "id": "745f4cea",
   "metadata": {},
   "outputs": [],
   "source": [
    "subtitle = []\n",
    "for line in potential_title_section[1:]:\n",
    "    if '—' in line:\n",
    "        break\n",
    "    else:\n",
    "        subtitle.append(line.strip())\n",
    "\n",
    "subtitle = \" \".join(subtitle) if subtitle else None"
   ]
  },
  {
   "cell_type": "code",
   "execution_count": null,
   "id": "6057be4b",
   "metadata": {},
   "outputs": [],
   "source": [
    "subtitle"
   ]
  },
  {
   "cell_type": "code",
   "execution_count": null,
   "id": "6107e286",
   "metadata": {},
   "outputs": [],
   "source": [
    "def extract_articles(content):\n",
    "    # Split content by potential page numbers and extract the sections\n",
    "    sections = re.split(r'\\b(\\d{1,4})\\b', content)\n",
    "    \n",
    "    # Create a list to store extracted articles\n",
    "    articles = []\n",
    "    \n",
    "    # Iterate over sections to identify articles\n",
    "    for i in range(1, len(sections) - 1, 2):\n",
    "        # Check if the section following the number looks like an article title\n",
    "        potential_title_section = sections[i+1].strip().split(\"\\n\")\n",
    "        \n",
    "        # If the section is too short or starts with non-alphabetical character, it's likely not a title\n",
    "        if len(potential_title_section) < 1 or (potential_title_section[0] and not potential_title_section[0][0].isalpha()):\n",
    "            continue\n",
    "        \n",
    "        # Extract title, subtitle, and category\n",
    "        title = potential_title_section[0]\n",
    "        if len(title)>0:\n",
    "        \n",
    "            # Check for category and subtitle indicators\n",
    "            subtitle = []\n",
    "            for line in potential_title_section[1:]:\n",
    "                if '—' in line:\n",
    "                    break\n",
    "                else:\n",
    "                    subtitle.append(line.strip())\n",
    "\n",
    "            subtitle = \" \".join(subtitle) if subtitle else None\n",
    "\n",
    "            # Add the article title, subtitle, category, and page number to the list\n",
    "            articles.append({\n",
    "                \"title\": title,\n",
    "                \"subtitle\": subtitle,\n",
    "                \"starting page\": int(sections[i])\n",
    "            })\n",
    "    \n",
    "    return articles"
   ]
  },
  {
   "cell_type": "code",
   "execution_count": null,
   "id": "e587959e",
   "metadata": {},
   "outputs": [],
   "source": [
    "articles"
   ]
  },
  {
   "cell_type": "code",
   "execution_count": null,
   "id": "020ab44a",
   "metadata": {},
   "outputs": [],
   "source": [
    "articles.sort(key=lambda x: int(x['starting page']))"
   ]
  },
  {
   "cell_type": "code",
   "execution_count": null,
   "id": "4d33e70d",
   "metadata": {},
   "outputs": [],
   "source": [
    "articles"
   ]
  },
  {
   "cell_type": "code",
   "execution_count": null,
   "id": "2567c491",
   "metadata": {},
   "outputs": [],
   "source": [
    "# Extract final articles with titles, subtitles, and categories\n",
    "articles = extract_articles(TOC_replaced)\n",
    "\n",
    "# Rearrange artical order\n",
    "articles.sort(key=lambda x: int(x['starting page']))\n",
    "\n",
    "# Infer ending page\n",
    "end_pages = []\n",
    "for i in range(len(articles) - 1):\n",
    "    end_pages.append(int(articles[i+1]['starting page']) - 1)\n",
    "    \n",
    "# Add placeholder for the last article since we don't have its end page\n",
    "end_pages.append(\"Unknown\")\n",
    "\n",
    "# Attach end page to articles\n",
    "for article, end_page in zip(articles, end_pages):\n",
    "    if end_page != \"Unknown\":\n",
    "        article['page number'] = end_page - article['starting page'] + 1\n",
    "    else:\n",
    "        article['page number'] = \"Unknown\"\n",
    "    \n",
    "# Retain only valid articles\n",
    "subscribe_index = next((i for i, article in enumerate(articles) if article['title'] == 'Subscribe'), None)\n",
    "if subscribe_index is not None:\n",
    "    articles = articles[:subscribe_index]\n",
    "    \n",
    "# Page number in relative\n",
    "editorial_page = next((article['starting page'] for article in articles if article['title'] == 'Editorial'), None)\n",
    "for article in articles:\n",
    "    article['starting page'] = article['starting page'] - editorial_page + 5"
   ]
  },
  {
   "cell_type": "code",
   "execution_count": null,
   "id": "e5d260b8",
   "metadata": {},
   "outputs": [],
   "source": [
    "articles"
   ]
  },
  {
   "cell_type": "code",
   "execution_count": null,
   "id": "dce868c5",
   "metadata": {},
   "outputs": [],
   "source": [
    "articles"
   ]
  },
  {
   "cell_type": "code",
   "execution_count": null,
   "id": "2c5e7e22",
   "metadata": {},
   "outputs": [],
   "source": [
    "# Infer the last page\n",
    "valid_articles.sort(key=lambda x: int(x['starting page']))\n",
    "\n",
    "end_pages = []\n",
    "for i in range(len(valid_articles) - 1):\n",
    "    end_pages.append(int(articles[i+1]['starting page']) - 1)\n",
    "    \n",
    "# Add placeholder for the last article since we don't have its end page\n",
    "end_pages.append(\"Unknown\")\n",
    "\n",
    "# Attach end page to articles\n",
    "for article, end_page in zip(articles, end_pages):\n",
    "    article['ending page'] = end_page\n",
    "    \n",
    "articles"
   ]
  },
  {
   "cell_type": "code",
   "execution_count": null,
   "id": "503e0262",
   "metadata": {},
   "outputs": [],
   "source": []
  },
  {
   "cell_type": "code",
   "execution_count": null,
   "id": "eff8c696",
   "metadata": {},
   "outputs": [],
   "source": [
    "for article in valid_articles:\n",
    "    if article['subtitle'] is not None:\n",
    "        print(len(article['subtitle']))"
   ]
  },
  {
   "cell_type": "code",
   "execution_count": null,
   "id": "eb8f600b",
   "metadata": {},
   "outputs": [],
   "source": [
    "articles[0]"
   ]
  },
  {
   "cell_type": "code",
   "execution_count": null,
   "id": "4cfb04fd",
   "metadata": {},
   "outputs": [],
   "source": [
    "articles[1]"
   ]
  },
  {
   "cell_type": "code",
   "execution_count": null,
   "id": "8b6ef042",
   "metadata": {},
   "outputs": [],
   "source": []
  }
 ],
 "metadata": {
  "kernelspec": {
   "display_name": "Python 3 (ipykernel)",
   "language": "python",
   "name": "python3"
  },
  "language_info": {
   "codemirror_mode": {
    "name": "ipython",
    "version": 3
   },
   "file_extension": ".py",
   "mimetype": "text/x-python",
   "name": "python",
   "nbconvert_exporter": "python",
   "pygments_lexer": "ipython3",
   "version": "3.10.11"
  }
 },
 "nbformat": 4,
 "nbformat_minor": 5
}
