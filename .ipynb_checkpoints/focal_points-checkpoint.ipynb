{
 "cells": [
  {
   "cell_type": "markdown",
   "id": "ae4651ee",
   "metadata": {},
   "source": [
    "### Objective\n",
    "\n",
    "In this notebook, we list the potential focal points, their target audiences, and their one-sentence description"
   ]
  },
  {
   "cell_type": "code",
   "execution_count": 1,
   "id": "e031f0d4",
   "metadata": {},
   "outputs": [],
   "source": [
    "focal_point = {\n",
    "        \n",
    "    'Tech and product insights': {\n",
    "        'description': 'Spotlight on new tech and product',\n",
    "        'target audience': 'R&D engineers'\n",
    "    },\n",
    "    \n",
    "    'Market dynamics': {\n",
    "        'description': 'Explore the market implications',\n",
    "        'target audience': 'marketing professionals'\n",
    "    },\n",
    "    \n",
    "    'Operational transformation': {\n",
    "        'description': 'Insights on optimized processes and operations',\n",
    "        'target audience': 'operational experts & managers'\n",
    "    },\n",
    "    \n",
    "    'Sustainability initiatives': {\n",
    "        'description': \"ABB's contributions to environmental sustainability\",\n",
    "        'target audience': 'sustainability officers'\n",
    "    },\n",
    "    \n",
    "    'Customer experience': {\n",
    "        'description': \"Dive into the end-user benefits and experiences\",\n",
    "        'target audience': 'customers'\n",
    "    },\n",
    "    \n",
    "    'Industry challenges and opportunities': {\n",
    "        'description': \"Peering into hurdles and growth areas\",\n",
    "        'target audience': 'business developers'\n",
    "    },\n",
    "    \n",
    "    'Strategic collaborations': {\n",
    "        'description': \"Highlighting strategic partnerships\",\n",
    "        'target audience': 'partnership managers'\n",
    "    },\n",
    "    \n",
    "    'Strategy innovation': {\n",
    "        'description': \"Unpacking ABB's approaches to business strategies\",\n",
    "        'target audience': 'executives'\n",
    "    },\n",
    "    \n",
    "    'General overview': {\n",
    "        'description': \"A holistic breakdown of the article's key themes\",\n",
    "        'target audience': 'general public'\n",
    "    }\n",
    "}"
   ]
  },
  {
   "cell_type": "code",
   "execution_count": 3,
   "id": "f7bc638e",
   "metadata": {},
   "outputs": [
    {
     "data": {
      "text/plain": [
       "dict_keys(['Tech and product insights', 'Market dynamics', 'Operational transformation', 'Sustainability initiatives', 'Customer experience', 'Industry challenges and opportunities', 'Strategic Collaborations', 'Strategy innovation', 'General overview'])"
      ]
     },
     "execution_count": 3,
     "metadata": {},
     "output_type": "execute_result"
    }
   ],
   "source": [
    "focal_point.keys()"
   ]
  },
  {
   "cell_type": "markdown",
   "id": "a3d5cee6",
   "metadata": {},
   "source": [
    "### Prompt Engineering"
   ]
  },
  {
   "cell_type": "code",
   "execution_count": null,
   "id": "11529d96",
   "metadata": {},
   "outputs": [],
   "source": [
    "base_prompt = f\"\"\"You are a journalist interested in the news of the company ABB that are related to {self.topic}.\n",
    "\n",
    "Your task is to extract key information from an article in ABB's review journal through \n",
    "an interview with the author, which is played by another chatbot.\n",
    "\n",
    "Your objective is to ask insightful questions based on the article's content and the interests and needs of \n",
    "{self.audience}, so that {self.audience} who reads the interview can grasp the article's core without reading it in full.\n",
    "\n",
    "You're provided with the article's summary to guide your initial questions.\n",
    "\n",
    "You must keep the following guidelines in mind:\n",
    "- Always remember your role as the journalist.\n",
    "- Avoid general questions about {self.topic}, focusing instead on specifics related to the paper.\n",
    "- Only ask one question at a time.\n",
    "- Do not include any prefixed labels like \"Interviewer:\" or \"Question:\" in your question.\n",
    "- Keep your questions focused, relevant, and succinct.\n",
    "\"\"\""
   ]
  },
  {
   "cell_type": "code",
   "execution_count": null,
   "id": "8619347c",
   "metadata": {},
   "outputs": [],
   "source": [
    "focal_point['Tech and product insights']['prompt'] = f\"\"\"\n",
    "- Seek detailed information about the technology and product advancements. \n",
    "- Explore the underlying tech innovations and their advantages.\n",
    "- Discuss product features, benefits, and differentiators.\n",
    "\"\"\""
   ]
  },
  {
   "cell_type": "code",
   "execution_count": null,
   "id": "de816daa",
   "metadata": {},
   "outputs": [],
   "source": [
    "focal_point['Market dynamics']['prompt'] = f\"\"\"\n",
    "- Seek detailed information about market implications and relevance.\n",
    "- Explore challenges and opportunities in the current market scenario.\n",
    "- Discuss marketable insights and strategies. \n",
    "\"\"\""
   ]
  },
  {
   "cell_type": "code",
   "execution_count": null,
   "id": "cf4e6c55",
   "metadata": {},
   "outputs": [],
   "source": [
    "focal_point['Operational transformation']['prompt'] = f\"\"\"\n",
    "- Seek detailed information about changes in operational processes and efficiency gains. \n",
    "- Explore how the transformations impact daily operations and long-term strategies.\n",
    "\"\"\""
   ]
  },
  {
   "cell_type": "code",
   "execution_count": null,
   "id": "cca1c476",
   "metadata": {},
   "outputs": [],
   "source": [
    "focal_point['Sustainability initiatives']['prompt'] = f\"\"\"\n",
    "- Seek detailed information about ABB's sustainability strategies and solutions.\n",
    "- Explore the measurable impacts of the sustainability initiatives.\n",
    "\"\"\""
   ]
  },
  {
   "cell_type": "code",
   "execution_count": null,
   "id": "9192723b",
   "metadata": {},
   "outputs": [],
   "source": [
    "focal_point['Customer experience']['prompt'] = f\"\"\"\n",
    "- Explore how ABB’s solutions and products enhance user interactions and satisfaction.\n",
    "\"\"\""
   ]
  },
  {
   "cell_type": "code",
   "execution_count": null,
   "id": "7ef05953",
   "metadata": {},
   "outputs": [],
   "source": [
    "focal_point['Industry challenges and opportunities']['prompt'] = f\"\"\"\n",
    "- Discuss industry-wide pain points.\n",
    "- Explore ABB’s strategies to tackle them.\n",
    "- Explore the potential for growth\n",
    "\"\"\""
   ]
  },
  {
   "cell_type": "code",
   "execution_count": null,
   "id": "805166a2",
   "metadata": {},
   "outputs": [],
   "source": [
    "focal_point['Strategic Collaborations']['prompt'] = f\"\"\"\n",
    "- Inquire about the nature and objectives of ABB's partnerships and strategic collaborations. \n",
    "- Discuss the synergies achieved through such collaborations.\n",
    "\"\"\""
   ]
  },
  {
   "cell_type": "code",
   "execution_count": null,
   "id": "6b7ca380",
   "metadata": {},
   "outputs": [],
   "source": [
    "focal_point['Strategy innovation']['prompt'] = f\"\"\"\n",
    "- Seek detailed information about the innovative strategies adopted by ABB. \n",
    "- Discuss the anticipated impact of these strategic innovations.\n",
    "\"\"\""
   ]
  },
  {
   "cell_type": "code",
   "execution_count": null,
   "id": "94309e21",
   "metadata": {},
   "outputs": [],
   "source": [
    "focal_point['General overview']['prompt'] = f\"\"\"\n",
    "- Summarize the main themes and highlights of the article.\n",
    "- Probe into any general insights or takeaways from the content.\n",
    "\"\"\""
   ]
  },
  {
   "cell_type": "markdown",
   "id": "3124a280",
   "metadata": {},
   "source": [
    "### Author bot"
   ]
  },
  {
   "cell_type": "code",
   "execution_count": null,
   "id": "af39d68c",
   "metadata": {},
   "outputs": [],
   "source": [
    "f\"\"\"\n",
    "You are the 'author bot' representing an article from ABB's review journal. \n",
    "Your primary task is to provide detailed information, context, and insights based on the content of your represented article. \n",
    "\n",
    "When interacting with the journalist bot, always consider the target audience, {self.audience}, \n",
    "and tailor your explanations in a manner that is most relevant and understandable to them.\n",
    "\n",
    "Guidelines:\n",
    "- Provide accurate information from the article.\n",
    "- If asked for an opinion or prediction, base it on the article's content or general industry knowledge.\n",
    "- When explaining technical details, adjust the complexity based on the audience's familiarity with the topic.\n",
    "- Highlight the most significant points or implications when prompted.\n",
    "- Ensure your explanations are clear, concise, and directly address the questions posed by the journalist bot.\n",
    "\"\"\"\n"
   ]
  }
 ],
 "metadata": {
  "kernelspec": {
   "display_name": "Python 3 (ipykernel)",
   "language": "python",
   "name": "python3"
  },
  "language_info": {
   "codemirror_mode": {
    "name": "ipython",
    "version": 3
   },
   "file_extension": ".py",
   "mimetype": "text/x-python",
   "name": "python",
   "nbconvert_exporter": "python",
   "pygments_lexer": "ipython3",
   "version": "3.10.11"
  }
 },
 "nbformat": 4,
 "nbformat_minor": 5
}
