{
 "cells": [
  {
   "cell_type": "markdown",
   "id": "9563a375",
   "metadata": {},
   "source": [
    "### Objective\n",
    "\n",
    "In this notebook, we list the potential focal points, their target audiences, and their one-sentence description"
   ]
  },
  {
   "cell_type": "code",
   "execution_count": 2,
   "id": "8f970c6c",
   "metadata": {},
   "outputs": [],
   "source": [
    "focal_point = {\n",
    "        \n",
    "    'Tech and product insights': {\n",
    "        'description': 'Spotlight on new tech and product',\n",
    "        'target audience': 'R&D engineers'\n",
    "    },\n",
    "    \n",
    "    'Market dynamics': {\n",
    "        'description': 'Explore the market implications',\n",
    "        'target audience': 'marketing professionals'\n",
    "    },\n",
    "    \n",
    "    'Operational transformation': {\n",
    "        'description': 'Insights on optimized processes and operations',\n",
    "        'target audience': 'operational experts & managers'\n",
    "    },\n",
    "    \n",
    "    'Sustainability initiatives': {\n",
    "        'description': \"ABB's contributions to environmental sustainability\",\n",
    "        'target audience': 'sustainability officers'\n",
    "    },\n",
    "    \n",
    "    'Customer experience': {\n",
    "        'description': \"Dive into the end-user benefits and experiences\",\n",
    "        'target audience': 'customers'\n",
    "    },\n",
    "    \n",
    "    'Industry challenges and opportunities': {\n",
    "        'description': \"Peering into hurdles and growth areas\",\n",
    "        'target audience': 'business developers'\n",
    "    },\n",
    "    \n",
    "    'Strategic Collaborations': {\n",
    "        'description': \"Highlighting strategic partnerships\",\n",
    "        'target audience': 'partnership managers'\n",
    "    },\n",
    "    \n",
    "    'Innovation in Strategy': {\n",
    "        'description': \"Unpacking ABB's approaches to business strategies\",\n",
    "        'target audience': 'executives'\n",
    "    },\n",
    "    \n",
    "    'General overview': {\n",
    "        'description': \"A holistic breakdown of the article's key themes\",\n",
    "        'target audience': 'general public'\n",
    "    }\n",
    "}"
   ]
  },
  {
   "cell_type": "code",
   "execution_count": null,
   "id": "e7e109c9",
   "metadata": {},
   "outputs": [],
   "source": []
  }
 ],
 "metadata": {
  "kernelspec": {
   "display_name": "Python 3 (ipykernel)",
   "language": "python",
   "name": "python3"
  },
  "language_info": {
   "codemirror_mode": {
    "name": "ipython",
    "version": 3
   },
   "file_extension": ".py",
   "mimetype": "text/x-python",
   "name": "python",
   "nbconvert_exporter": "python",
   "pygments_lexer": "ipython3",
   "version": "3.8.12"
  }
 },
 "nbformat": 4,
 "nbformat_minor": 5
}
