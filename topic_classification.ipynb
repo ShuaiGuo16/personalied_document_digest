{
 "cells": [
  {
   "cell_type": "markdown",
   "id": "a27c8b59",
   "metadata": {},
   "source": [
    "### Objective\n",
    "\n",
    "In this project, we aim to use LLM to perform topic classification"
   ]
  },
  {
   "cell_type": "code",
   "execution_count": 1,
   "id": "f5d700fc",
   "metadata": {},
   "outputs": [],
   "source": [
    "from langchain.embeddings.openai import OpenAIEmbeddings\n",
    "from langchain.vectorstores import Chroma\n",
    "from langchain.text_splitter import RecursiveCharacterTextSplitter\n",
    "from langchain.llms import OpenAI, AzureOpenAI\n",
    "from langchain.chains import ConversationalRetrievalChain\n",
    "from langchain.document_loaders import PyMuPDFLoader\n",
    "from langchain.vectorstores import FAISS\n",
    "from langchain.prompts import (\n",
    "    ChatPromptTemplate, \n",
    "    MessagesPlaceholder, \n",
    "    SystemMessagePromptTemplate, \n",
    "    HumanMessagePromptTemplate\n",
    ")\n",
    "from langchain.prompts import PromptTemplate\n",
    "from langchain.chains import LLMChain\n",
    "from langchain.chains import ConversationChain\n",
    "from langchain.chat_models import AzureChatOpenAI\n",
    "from langchain.memory import ConversationBufferMemory\n",
    "import openai\n",
    "import os"
   ]
  },
  {
   "cell_type": "markdown",
   "id": "20cebbe0",
   "metadata": {},
   "source": [
    "#### 1. Create document chunks"
   ]
  },
  {
   "cell_type": "code",
   "execution_count": 74,
   "id": "dc1aa91e",
   "metadata": {},
   "outputs": [],
   "source": [
    "issue_name = 'ABB Review_02_2023_layout complete_EN_72-300dpi'\n",
    "article_name = 'clean machines'\n",
    "article_range = [53, 56]\n",
    "loader = PyMuPDFLoader(\"./papers/\"+issue_name+\".pdf\")\n",
    "raw_documents = loader.load()[article_range[0]:article_range[-1]+1]"
   ]
  },
  {
   "cell_type": "markdown",
   "id": "68bd530b",
   "metadata": {},
   "source": [
    "##### Remove reference info in the last page"
   ]
  },
  {
   "cell_type": "code",
   "execution_count": 75,
   "id": "4198281d",
   "metadata": {},
   "outputs": [],
   "source": [
    "text = raw_documents[-1].page_content\n",
    "\n",
    "# Split the text by the \"References\" section\n",
    "before_references, references_and_after = text.split(\"References\", 1)\n",
    "\n",
    "# Find the end of the \"References\" section by locating the first \"—\" after \"References\"\n",
    "after_references = references_and_after.split(\"\\n—\\n\", 1)[1]\n",
    "\n",
    "# Combine the before and after parts\n",
    "cleaned_text = before_references + after_references\n",
    "\n",
    "# Update the raw documents\n",
    "raw_documents[-1].page_content = cleaned_text"
   ]
  },
  {
   "cell_type": "code",
   "execution_count": 6,
   "id": "fc786b74",
   "metadata": {},
   "outputs": [],
   "source": [
    "# Split the document\n",
    "text_splitter = RecursiveCharacterTextSplitter(chunk_size=3000, chunk_overlap=100)\n",
    "documents = text_splitter.split_documents(raw_documents)"
   ]
  },
  {
   "cell_type": "markdown",
   "id": "3233e486",
   "metadata": {},
   "source": [
    "#### 2. Topic classification"
   ]
  },
  {
   "cell_type": "code",
   "execution_count": 7,
   "id": "40e5e6ab",
   "metadata": {},
   "outputs": [],
   "source": [
    "# Available topics\n",
    "topics = ['Tech and product insights', 'Market dynamics', 'Operational transformation', \n",
    "          'Sustainability initiatives', 'Customer experience', 'Industry challenges and opportunities', \n",
    "          'Strategic collaborations', 'Strategy innovation', 'General overview']"
   ]
  },
  {
   "cell_type": "code",
   "execution_count": 8,
   "id": "0e1b2636",
   "metadata": {},
   "outputs": [],
   "source": [
    "# Create LLM (completion)\n",
    "llm = AzureOpenAI(\n",
    "    deployment_name=\"deployment-5af509f3323342ee919481751c6f8b7d\",\n",
    "    model_name=\"text-davinci-003\",\n",
    "    openai_api_base=\"https://abb-chcrc.openai.azure.com/\",\n",
    "    openai_api_version=\"2023-03-15-preview\",\n",
    "    openai_api_key=os.environ[\"OPENAI_API_KEY_AZURE\"],\n",
    "    openai_api_type=\"azure\",\n",
    ")"
   ]
  },
  {
   "cell_type": "code",
   "execution_count": 26,
   "id": "cded7ce8",
   "metadata": {},
   "outputs": [],
   "source": [
    "template = \"\"\"Given the following text, identify which focal points from the following list are most relevant and \n",
    "provide a reason for each selection in the format of \"topic: reason\".\n",
    "\n",
    "        [text]: {text} \\n\n",
    "        [Focal points]: {topics}\n",
    "        \"\"\"\n",
    "\n",
    "prompt = PromptTemplate(\n",
    "    template=template,\n",
    "    input_variables=[\"text\", \"topics\"],\n",
    ")"
   ]
  },
  {
   "cell_type": "code",
   "execution_count": 27,
   "id": "377ff647",
   "metadata": {},
   "outputs": [
    {
     "name": "stdout",
     "output_type": "stream",
     "text": [
      "Processing 1/6th docs.\n",
      "Processing 3/6th docs.\n",
      "Processing 5/6th docs.\n"
     ]
    }
   ],
   "source": [
    "llm_response = []\n",
    "for i, doc in enumerate(documents):\n",
    "    if i%2==0:\n",
    "        print(f\"Processing {i+1}/{len(documents)}th docs.\")\n",
    "    response = llm.predict(prompt.format(text=doc.page_content, topics=topics[:-1]))\n",
    "    llm_response.append(response)"
   ]
  },
  {
   "cell_type": "code",
   "execution_count": 41,
   "id": "cd735680",
   "metadata": {},
   "outputs": [
    {
     "name": "stdout",
     "output_type": "stream",
     "text": [
      "OK\n"
     ]
    }
   ],
   "source": [
    "topic = 'Sustainability initiatives'\n",
    "for item in llm_response[0].split('\\n'):\n",
    "    if topic in item:\n",
    "        item.split(':')"
   ]
  },
  {
   "cell_type": "code",
   "execution_count": 47,
   "id": "6b4677df",
   "metadata": {},
   "outputs": [
    {
     "data": {
      "text/plain": [
       "'The article is focused on the sustainability of EV batteries and the potential for reducing emissions.'"
      ]
     },
     "execution_count": 47,
     "metadata": {},
     "output_type": "execute_result"
    }
   ],
   "source": [
    "llm_response[0].split('\\n')[3].split(':')[-1].strip()"
   ]
  },
  {
   "cell_type": "code",
   "execution_count": 50,
   "id": "61674d3f",
   "metadata": {},
   "outputs": [],
   "source": [
    "# Parse LLM output\n",
    "topic_classifier = {topic: {'vote': 0, 'reason': []} for topic in topics}\n",
    "for topic in topics[:-1]:\n",
    "    for response in llm_response:\n",
    "        parse_response = response.split('\\n')\n",
    "        for item in parse_response:\n",
    "            if topic in item:\n",
    "                topic_classifier[topic]['vote'] += 1\n",
    "                topic_classifier[topic]['reason'].append(item.split(':')[-1].strip())"
   ]
  },
  {
   "cell_type": "code",
   "execution_count": 54,
   "id": "d54a7de0",
   "metadata": {},
   "outputs": [
    {
     "data": {
      "text/plain": [
       "{'Tech and product insights': {'vote': 5,\n",
       "  'reason': ['The article is focused on carbon emissions from EV batteries and the potential for reducing them.',\n",
       "   'Reason - Text includes information on ICE fuel and exhaust emissions compared with BEV electricity use and emissions from battery manufacture.',\n",
       "   'reason - The text contains details about the primary contribution to emissions in both ICE and BEV vehicles during the use phase, as well as the energy consumption and efficiency of BEV charging.',\n",
       "   'To understand the most efficient ICE and BEV models in the EU, NED, GER, FR, US, NOR, CN, and UK, and the associated CO2 emissions, battery production, car production, electric energy chain, well-to-tank, and direct emission.',\n",
       "   'Lower BEV emissions come from declines in grid emissions, mostly brought about by decarbonization.']},\n",
       " 'Sustainability initiatives': {'vote': 5,\n",
       "  'reason': ['The article is focused on the sustainability of EV batteries and the potential for reducing emissions.',\n",
       "   'Reason - Text includes information on BEV batteries, which have a carbon footprint.',\n",
       "   'reason - The text describes the potential for emissions reduction from BEV vehicles, as well as other considerations such as emissions from idling ICEs, BEV regenerative braking, and lower maintenance.',\n",
       "   'To compare the CO2 emissions in each country and identify strategies for reducing emissions.',\n",
       "   'BEVs vs. ICE, overall CO₂ lifetime emission equivalent, projected progress.']},\n",
       " 'Market dynamics': {'vote': 4,\n",
       "  'reason': ['Reason - Text includes information on how BEV vehicles are rapidly overtaking ICE vehicles on the roads.',\n",
       "   'reason - The text discusses the different trends in emissions for different regions and countries.',\n",
       "   'To outline the differences in CO2 emissions in the various countries mentioned.',\n",
       "   'Life-cycle emissions over 240,000 km of electric and conventional vehicles in Europe in 2020.']},\n",
       " 'Industry challenges and opportunities': {'vote': 2,\n",
       "  'reason': ['The article discusses the challenges and opportunities associated with EV batteries, such as the potential for reducing emissions.',\n",
       "   'reason - The text outlines how the overall CO₂ emissions for BEV versus ICE vehicles depend on the region or country, and provides projections of emissions reduction.']},\n",
       " 'Strategy innovation': {'vote': 2,\n",
       "  'reason': ['To identify opportunities for improving efficiency through the adoption of ICE and BEV technology.',\n",
       "   'Decarbonization of national power grids.']},\n",
       " 'Operational transformation': {'vote': 0, 'reason': []},\n",
       " 'Customer experience': {'vote': 0, 'reason': []},\n",
       " 'Strategic collaborations': {'vote': 0, 'reason': []},\n",
       " 'General overview': {'vote': 0, 'reason': []}}"
      ]
     },
     "execution_count": 54,
     "metadata": {},
     "output_type": "execute_result"
    }
   ],
   "source": [
    "# Decide relevant topics\n",
    "selected_topics = dict(sorted(topic_classifier.items(), key=lambda item: item[1]['vote'], reverse=True))\n",
    "selected_topics"
   ]
  },
  {
   "cell_type": "code",
   "execution_count": 64,
   "id": "e47c45c4",
   "metadata": {},
   "outputs": [
    {
     "data": {
      "text/plain": [
       "{'vote': 5,\n",
       " 'reason': ['The article is focused on the sustainability of EV batteries and the potential for reducing emissions.',\n",
       "  'Reason - Text includes information on BEV batteries, which have a carbon footprint.',\n",
       "  'reason - The text describes the potential for emissions reduction from BEV vehicles, as well as other considerations such as emissions from idling ICEs, BEV regenerative braking, and lower maintenance.',\n",
       "  'To compare the CO2 emissions in each country and identify strategies for reducing emissions.',\n",
       "  'BEVs vs. ICE, overall CO₂ lifetime emission equivalent, projected progress.']}"
      ]
     },
     "execution_count": 64,
     "metadata": {},
     "output_type": "execute_result"
    }
   ],
   "source": [
    "selected_topics['Sustainability initiatives']"
   ]
  },
  {
   "cell_type": "code",
   "execution_count": 68,
   "id": "391072d3",
   "metadata": {},
   "outputs": [
    {
     "name": "stdout",
     "output_type": "stream",
     "text": [
      "\n",
      "The article is relevant to the topic of Sustainability initiatives because it provides an in-depth analysis of the sustainability of EV batteries, compares CO2 emissions in each country, and outlines strategies for reducing emissions. It also covers other considerations such as emissions from idling ICEs, BEV regenerative braking, and lower maintenance.\n"
     ]
    }
   ],
   "source": [
    "template = \"\"\"Given the reasons for why individual sections of an article are relevant to the topic of {theme}, \n",
    "summarize concisely the reason why the entire article is relevant to the topic of {theme}.\n",
    "\n",
    "        [theme]: {theme} \\n\n",
    "        [reasons]: {reasons}\n",
    "        \"\"\"\n",
    "\n",
    "prompt = PromptTemplate(\n",
    "    template=template,\n",
    "    input_variables=[\"theme\", \"reasons\"],\n",
    ")\n",
    "\n",
    "response = llm.predict(prompt.format(theme='Sustainability initiatives', \n",
    "                                     reasons=selected_topics['Sustainability initiatives']['reason']))\n",
    "print(response)"
   ]
  },
  {
   "cell_type": "code",
   "execution_count": null,
   "id": "07ad9913",
   "metadata": {},
   "outputs": [],
   "source": [
    "# Count \n",
    "topic_classifier = {}\n",
    "for topic in topics[:-1]:\n",
    "    topic_classifier[topic] = 0\n",
    "    for response in llm_response:\n",
    "        if topic in response:\n",
    "            topic_classifier[topic] += 1\n",
    "\n",
    "# Decide relevant topics\n",
    "selected_topics = dict(sorted(topic_classifier.items(), key=lambda item: item[1], reverse=True))\n",
    "selected_topics"
   ]
  },
  {
   "cell_type": "markdown",
   "id": "0a7ceccc",
   "metadata": {},
   "source": [
    "prompt = f\"\"\"You are a journalist examining ABB's developments related to \"{theme}\" for {audience}. Specifically, your line of questioning should revolve around: \"{summarized_reasons}\".\n",
    "\n",
    "Your mission is to interview the article's author, represented by another chatbot, extracting key insights and addressing the provided focal points. Adjust your questions based on the focal points and the author bot's feedback. Your inquiries should align closely with the focal points and reasons provided.\n",
    "\n",
    "Guidelines:\n",
    "- **Stay in Role**: Your role as a journalist is to unearth valuable details.\n",
    "- **Adherence to Focal Points**: Ensure your questions resonate with the theme and summarized reasons.\n",
    "- **Question Quality**: Ask clear, concise questions that stem from the article's content.\n",
    "\n",
    "[Summary]: {summary}\n",
    "\"\"\"\n",
    "\n"
   ]
  },
  {
   "cell_type": "code",
   "execution_count": 69,
   "id": "94e1f159",
   "metadata": {},
   "outputs": [],
   "source": [
    "test_topics = ['A', 'B']\n",
    "test_reasons = ['AA', 'BB']\n",
    "test_prompt = ''\n",
    "\n",
    "for i_topic, i_reasons in zip(test_topics, test_reasons):\n",
    "    test_prompt += i_topic+': '+i_reasons+' \\n'"
   ]
  },
  {
   "cell_type": "code",
   "execution_count": 72,
   "id": "28112673",
   "metadata": {},
   "outputs": [],
   "source": [
    "test = f\"\"\"You are a journalist examining ABB's developments related to  for.\n",
    "\n",
    "[Themes and  relevancy]: \n",
    "{test_prompt}\n",
    "\"\"\""
   ]
  },
  {
   "cell_type": "code",
   "execution_count": 73,
   "id": "75f993eb",
   "metadata": {},
   "outputs": [
    {
     "name": "stdout",
     "output_type": "stream",
     "text": [
      "You are a journalist examining ABB's developments related to  for.\n",
      "\n",
      "[Themes and  relevancy]: \n",
      "A: AA \n",
      "B: BB \n",
      "\n",
      "\n"
     ]
    }
   ],
   "source": [
    "print(test)"
   ]
  },
  {
   "cell_type": "code",
   "execution_count": null,
   "id": "d3dea80f",
   "metadata": {},
   "outputs": [],
   "source": []
  }
 ],
 "metadata": {
  "kernelspec": {
   "display_name": "Python 3 (ipykernel)",
   "language": "python",
   "name": "python3"
  },
  "language_info": {
   "codemirror_mode": {
    "name": "ipython",
    "version": 3
   },
   "file_extension": ".py",
   "mimetype": "text/x-python",
   "name": "python",
   "nbconvert_exporter": "python",
   "pygments_lexer": "ipython3",
   "version": "3.10.11"
  }
 },
 "nbformat": 4,
 "nbformat_minor": 5
}
