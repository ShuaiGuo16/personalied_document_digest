{
 "cells": [
  {
   "cell_type": "markdown",
   "id": "2a3203eb",
   "metadata": {},
   "source": [
    "### Objective\n",
    "\n",
    "In this notebook, we will try to automatically extract the page numbers of an ABB review issue by using LLM."
   ]
  },
  {
   "cell_type": "code",
   "execution_count": 1,
   "id": "b108c356",
   "metadata": {},
   "outputs": [],
   "source": [
    "from langchain.document_loaders import PyMuPDFLoader\n",
    "from langchain.prompts import PromptTemplate\n",
    "from langchain.llms import AzureOpenAI\n",
    "from langchain.output_parsers import PydanticOutputParser\n",
    "from pydantic import BaseModel, Field, validator\n",
    "from typing import List\n",
    "import os"
   ]
  },
  {
   "cell_type": "markdown",
   "id": "00ea4cc6",
   "metadata": {},
   "source": [
    "#### Load ABB review issues"
   ]
  },
  {
   "cell_type": "code",
   "execution_count": 2,
   "id": "c1bce75d",
   "metadata": {},
   "outputs": [],
   "source": [
    "issue_name = 'ABB Review_02_2023_layout complete_EN_72-300dpi'\n",
    "loader = PyMuPDFLoader(\"./papers/\"+issue_name+\".pdf\")\n",
    "raw_documents = loader.load()\n",
    "TOC_page = 3\n",
    "TOC = raw_documents[TOC_page-1].page_content"
   ]
  },
  {
   "cell_type": "code",
   "execution_count": 3,
   "id": "4ad3d217",
   "metadata": {
    "scrolled": true
   },
   "outputs": [
    {
     "data": {
      "text/plain": [
       "'02|2023\\n85\\n— \\nAssets in motion\\n136 Clean machine\\nCarbon emissions from EV \\nbattery production and use\\n140 Plug-in mines\\nWorld’s first fully automated \\ncharging system for mining \\ntrucks\\n146 Modeling flow\\nMultiphysics-based reduced \\n order model (ROM) for mine \\npollution control\\n— \\nBuzzword Demystifier\\n152 Industrial Metaverse\\nHow can the Industrial \\nMetaverse help ABB and its \\n customers?\\n—\\n153 Subscribe\\n153 French and Spanish translations\\n153 Imprint\\n—\\n87�\\nEditorial\\n— \\n88�\\n2022�ABB�Research�Award�\\n \\n Prestigious award for work on \\nconnected device security\\n— \\nEnhanced knowledge\\n92 \\nFor greater results\\nHigh Speed Alignment – visual \\nservoing technology for ultra- \\nhigh precision assembly\\n100 The right moves\\nSoftware that optimizes robot \\nperformance\\n106 The DCS of tomorrow\\nEnvisioning the future of process \\nautomation\\n 112 Safe cyber space\\n ABB Ability™ Cyber Security \\nWorkplace\\n 118 The virtues of  virtualization\\n Virtual protection and control for \\nmedium- voltage substations\\n 124 Health monitor\\n Better service decisions with \\nABB Ability™ Smart Master\\n 128 Access is everything\\n Opening the door to a world of \\ninformation\\n—\\n Corrigendum\\n“The shoulders of \\ngiants”, ABB Review 1/23 \\npp. 9 – 15: On page 11 \\n(caption of fig 02) and \\npage 13 (first paragraph), \\nthe name of ASEA’s \\ntechnology publication \\nshould read ASEA Jour-\\nnal, not ASEA Review. \\n \\n“Cutting the cables”,  \\nABB Review 1/23 pp. \\n34 – 39: The following \\nco-author was omitted: \\nAbdulkadir Karaagac, \\nABB Corporate Research \\nLadenburg, Germany, \\nabdulkadir.karaagac@\\nde.abb.com. On page 38 \\nthe acknowledgments \\nshould read: “The authors \\nwish to acknowledge the \\noutstanding contribu-\\ntions of colleagues from \\nABB Corporate Research, \\nVästerås, Sweden and of \\ncolleagues in Ericsson \\n R&D”\\nThe authors and editors \\nof ABB Review apologize \\nfor these errors.\\n—\\nPage numbering\\nReaders will be pleased \\nto notice that from this \\nyear we have returned to \\nacademic journal page \\nnumbering, meaning page \\nnumbers run contiguously \\nthroughout the four \\neditions of the year.\\nOur intention is to make \\nreferencing easier for the \\nscientific community.\\n'"
      ]
     },
     "execution_count": 3,
     "metadata": {},
     "output_type": "execute_result"
    }
   ],
   "source": [
    "TOC"
   ]
  },
  {
   "cell_type": "markdown",
   "id": "3cb8484d",
   "metadata": {},
   "source": [
    "#### Output parser"
   ]
  },
  {
   "cell_type": "code",
   "execution_count": null,
   "id": "27e56b80",
   "metadata": {},
   "outputs": [],
   "source": [
    "class table_of_content(BaseModel):\n",
    "    title: str = Field(description=\"title of an article\")\n",
    "    subtitle: str = Field(description=\"subtitle of an article\")\n",
    "    starting_page_number: str = Field(description=\"starting page number of an article\")"
   ]
  },
  {
   "cell_type": "code",
   "execution_count": null,
   "id": "52050a9a",
   "metadata": {},
   "outputs": [],
   "source": [
    "# Set up a parser + inject instructions into the prompt template.\n",
    "parser = PydanticOutputParser(pydantic_object=table_of_content)\n",
    "\n",
    "prompt = PromptTemplate(\n",
    "    template=\"\"\"Given the table of content page extracted from a company's technical review journal,\n",
    "    please extract the title, subtitle, and starting page number of individual articles based on \n",
    "    your understanding of the text semantic.\n",
    "    {format_instructions}\n",
    "    {TOC}\"\"\",\n",
    "    input_variables=[\"TOC\"],\n",
    "    partial_variables={\"format_instructions\": parser.get_format_instructions()},\n",
    ")\n",
    "\n",
    "_input = prompt.format_prompt(TOC=TOC)\n",
    "\n",
    "output = llm(_input.to_string())\n",
    "\n",
    "parser.parse(output)"
   ]
  },
  {
   "cell_type": "markdown",
   "id": "805fdc5c",
   "metadata": {},
   "source": [
    "#### Set up output parser"
   ]
  },
  {
   "cell_type": "code",
   "execution_count": null,
   "id": "e8b931b1",
   "metadata": {},
   "outputs": [],
   "source": [
    "response_schemas = [\n",
    "    ResponseSchema(name=\"title\", description=\"title of the article\"),\n",
    "    ResponseSchema(name=\"starting_page_number\", description=\"starting page number of the article\"),\n",
    "    ResponseSchema(name=\"subtitle\", description=\"subtitle of the article\")\n",
    "]\n",
    "output_parser = StructuredOutputParser.from_response_schemas(response_schemas)"
   ]
  },
  {
   "cell_type": "code",
   "execution_count": null,
   "id": "45857f30",
   "metadata": {},
   "outputs": [],
   "source": [
    "format_instructions = output_parser.get_format_instructions()\n",
    "prompt = PromptTemplate(\n",
    "    template=\"\"\"Given the table of content page extracted from a company's technical review journal,\n",
    "    please extract the title, subtitle, and starting page number of individual articles.\n",
    "    {format_instructions}\n",
    "    {TOC}\"\"\",\n",
    "    input_variables=[\"TOC\"],\n",
    "    partial_variables={\"format_instructions\": format_instructions}\n",
    ")"
   ]
  },
  {
   "cell_type": "code",
   "execution_count": 4,
   "id": "f40c305a",
   "metadata": {},
   "outputs": [],
   "source": [
    "llm = AzureOpenAI(\n",
    "    deployment_name=\"deployment-5af509f3323342ee919481751c6f8b7d\",\n",
    "    model_name=\"text-davinci-003\",\n",
    "    openai_api_base=\"https://abb-chcrc.openai.azure.com/\",\n",
    "    openai_api_version=\"2023-03-15-preview\",\n",
    "    openai_api_key=os.environ[\"OPENAI_API_KEY\"],\n",
    "    openai_api_type=\"azure\",\n",
    ")"
   ]
  },
  {
   "cell_type": "code",
   "execution_count": 5,
   "id": "8c3077d4",
   "metadata": {},
   "outputs": [],
   "source": [
    "prompt = f\"\"\"The following is the table of content page extracted from a company's technical review journal. \n",
    "Could you please extract the title, subtitle, as well as the starting page of individial articles? \n",
    "Please do so based on your understanding of the text semantic.\n",
    "\n",
    "{TOC}\"\"\"\n",
    "\n",
    "output = llm(prompt)"
   ]
  },
  {
   "cell_type": "code",
   "execution_count": 7,
   "id": "0dc3474a",
   "metadata": {},
   "outputs": [
    {
     "name": "stdout",
     "output_type": "stream",
     "text": [
      "\n",
      "Article 1: \n",
      "Title: Assets in motion \n",
      "Subtitle: Carbon emissions from EV battery production and use\n",
      "Starting page: 136 \n",
      "\n",
      "Article 2: \n",
      "Title: Buzzword Demystifier \n",
      "Subtitle: Industrial Metaverse \n",
      "Starting page: 152 \n",
      "\n",
      "Article 3: \n",
      "Title: Editorial \n",
      "Subtitle: N/A \n",
      "Starting page: 88 \n",
      "\n",
      "Article 4: \n",
      "Title: 2022 ABB Research Award \n",
      "Subtitle: Prestigious award for work on connected device security \n",
      "Starting page: 92 \n",
      "\n",
      "Article 5: \n",
      "Title: Enhanced knowledge \n",
      "Subtitle: High Speed Alignment – visual servoing technology for ultra-high precision assembly \n",
      "Starting page: 100 \n",
      "\n",
      "Article 6: \n",
      "Title: The right moves \n",
      "Subtitle: Software that optimizes robot performance \n",
      "Starting page: 106 \n",
      "\n",
      "Article 7: \n",
      "Title: The DCS of tomorrow \n",
      "Subtitle: Envisioning the future of process automation \n",
      "Starting page: 112 \n",
      "\n",
      "Article 8: \n",
      "Title: Safe cyber space \n",
      "Subtitle: ABB Ability™ Cyber Security Workplace \n",
      "Starting page: 118 \n",
      "\n",
      "\n"
     ]
    }
   ],
   "source": [
    "print(output)"
   ]
  },
  {
   "cell_type": "code",
   "execution_count": null,
   "id": "1fde8cfb",
   "metadata": {},
   "outputs": [],
   "source": [
    "_input = prompt.format_prompt(TOC=TOC)\n",
    "output = llm(_input.to_string())\n",
    "output_parser.parse(output)"
   ]
  },
  {
   "cell_type": "code",
   "execution_count": null,
   "id": "c19f817b",
   "metadata": {},
   "outputs": [],
   "source": [
    "output"
   ]
  },
  {
   "cell_type": "code",
   "execution_count": null,
   "id": "c00286a1",
   "metadata": {},
   "outputs": [],
   "source": []
  }
 ],
 "metadata": {
  "kernelspec": {
   "display_name": "Python 3 (ipykernel)",
   "language": "python",
   "name": "python3"
  },
  "language_info": {
   "codemirror_mode": {
    "name": "ipython",
    "version": 3
   },
   "file_extension": ".py",
   "mimetype": "text/x-python",
   "name": "python",
   "nbconvert_exporter": "python",
   "pygments_lexer": "ipython3",
   "version": "3.10.11"
  }
 },
 "nbformat": 4,
 "nbformat_minor": 5
}
