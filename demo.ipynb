{
 "cells": [
  {
   "cell_type": "markdown",
   "id": "09d03a8a",
   "metadata": {},
   "source": [
    "### Objective\n",
    "\n",
    "In this notebook, we create a simple demo to showcase the concept of role-playing dual-chatbot for digesting ABB Review articles."
   ]
  },
  {
   "cell_type": "markdown",
   "id": "a3bcb7b3",
   "metadata": {},
   "source": [
    "### 1. Import libraries"
   ]
  },
  {
   "cell_type": "code",
   "execution_count": 16,
   "id": "de632be3",
   "metadata": {},
   "outputs": [],
   "source": [
    "from chatbot import JournalistBot, AuthorBot\n",
    "from embedding_engine import Embedder\n",
    "from topic_classifier import TopicClassifier\n",
    "import utilities\n",
    "from pdf2image import convert_from_path\n",
    "import PyPDF2\n",
    "import os\n",
    "\n",
    "import ipywidgets as widgets\n",
    "from IPython.display import display, HTML, IFrame"
   ]
  },
  {
   "cell_type": "markdown",
   "id": "1eeb34d2",
   "metadata": {},
   "source": [
    "We consider 4 issues of ABB Review"
   ]
  },
  {
   "cell_type": "code",
   "execution_count": 2,
   "id": "4566e937",
   "metadata": {},
   "outputs": [],
   "source": [
    "filenames = {\n",
    "    'ABB Review 2022-03': 'ABB Review_03_2022_layout complete_EN_72-200dpi.pdf',\n",
    "    'ABB Review 2023-01': 'ABB Review_01_2023_layout complete_EN_72-300dpi.pdf',\n",
    "    'ABB Review 2023-02': 'ABB Review_02_2023_layout complete_EN_72-300dpi.pdf',\n",
    "    'ABB Review 2023-03': 'ABB Review_03_2023_layout complete_EN_300dpi.pdf',\n",
    "}"
   ]
  },
  {
   "cell_type": "markdown",
   "id": "2ded2148",
   "metadata": {},
   "source": [
    "### 2. User journey"
   ]
  },
  {
   "cell_type": "markdown",
   "id": "b2ba067e",
   "metadata": {},
   "source": [
    "We instantiate an empty dictionary to store user selections."
   ]
  },
  {
   "cell_type": "code",
   "execution_count": 3,
   "id": "f64b6af3",
   "metadata": {},
   "outputs": [],
   "source": [
    "user_journey = {}"
   ]
  },
  {
   "cell_type": "markdown",
   "id": "18bd0a1c",
   "metadata": {},
   "source": [
    "#### 2.1 User selects journal issue "
   ]
  },
  {
   "cell_type": "code",
   "execution_count": 4,
   "id": "48cfb5a7",
   "metadata": {},
   "outputs": [
    {
     "data": {
      "text/html": [
       "<span style=\"font-weight:bold; font-size:18px;\">Journal Issues:</span>"
      ],
      "text/plain": [
       "<IPython.core.display.HTML object>"
      ]
     },
     "metadata": {},
     "output_type": "display_data"
    },
    {
     "data": {
      "application/vnd.jupyter.widget-view+json": {
       "model_id": "c620d9492b6643dab04a88992deeb5e3",
       "version_major": 2,
       "version_minor": 0
      },
      "text/plain": [
       "HBox(children=(RadioButtons(options=('ABB Review 2022-03', 'ABB Review 2023-01', 'ABB Review 2023-02', 'ABB Re…"
      ]
     },
     "metadata": {},
     "output_type": "display_data"
    }
   ],
   "source": [
    "# Create radio buttons for the journal issues\n",
    "journal_issues = ['ABB Review 2022-03', 'ABB Review 2023-01', \n",
    "                  'ABB Review 2023-02', 'ABB Review 2023-03']\n",
    "\n",
    "# User selection\n",
    "issue_buttons = widgets.RadioButtons(\n",
    "    options=journal_issues,\n",
    "    value=None,  \n",
    "    description='',\n",
    "    disabled=False\n",
    ")\n",
    "\n",
    "output = widgets.Output()\n",
    "\n",
    "# Display UI elements\n",
    "display(HTML('<span style=\"font-weight:bold; font-size:18px;\">Journal Issues:</span>'))\n",
    "display(widgets.HBox([issue_buttons, output]))\n",
    "\n",
    "# Function to display the first page of the selected journal\n",
    "def show_journal_cover(journal_name):  \n",
    "    file_path = os.path.join(\"./papers\", filenames[journal_name])\n",
    "    \n",
    "    # Convert the first page of the PDF to an image\n",
    "    images = convert_from_path(file_path, first_page=1, last_page=1, size=(300, None))\n",
    "    \n",
    "    # Clear the previous image\n",
    "    output.clear_output()\n",
    "\n",
    "    # Display the new image\n",
    "    with output:\n",
    "        display(images[0])\n",
    "\n",
    "# Function to update and display the selected value\n",
    "def on_value_change(change):\n",
    "    if change['new'] in filenames:\n",
    "        user_journey[\"selected_journal\"] = filenames[change['new']]\n",
    "        show_journal_cover(change['new'])\n",
    "\n",
    "# Set up an observer to watch for changes\n",
    "issue_buttons.observe(on_value_change, names='value')"
   ]
  },
  {
   "cell_type": "markdown",
   "id": "d6bf48de",
   "metadata": {},
   "source": [
    "#### 2.2 User selects article\n",
    "\n",
    "We first extract articles in the user-selected issue."
   ]
  },
  {
   "cell_type": "code",
   "execution_count": 5,
   "id": "411b8f21",
   "metadata": {},
   "outputs": [
    {
     "name": "stdout",
     "output_type": "stream",
     "text": [
      "[{'start_page': 5, 'title': 'Editorial', 'subtitle': '', 'length': 5}, {'start_page': 10, 'title': 'For greater results', 'subtitle': 'High Speed Alignment – visual servoing technology for ultra- high precision assembly', 'length': 8}, {'start_page': 18, 'title': 'The right moves', 'subtitle': 'Software that optimizes robot performance', 'length': 6}, {'start_page': 24, 'title': 'The DCS of tomorrow', 'subtitle': 'Envisioning the future of process automation', 'length': 6}, {'start_page': 30, 'title': 'Safe cyber space', 'subtitle': 'ABB Ability™ Cyber Security Workplace', 'length': 6}, {'start_page': 36, 'title': 'The virtues of  virtualization', 'subtitle': 'Virtual protection and control for medium-  voltage substations', 'length': 6}, {'start_page': 42, 'title': 'Health monitor', 'subtitle': 'Better service decisions with ABB Ability™ Smart Master', 'length': 4}, {'start_page': 46, 'title': 'Access is everything', 'subtitle': 'Opening the door to a world of information', 'length': 8}, {'start_page': 54, 'title': 'Clean machine', 'subtitle': 'Carbon emissions from EV battery production and use', 'length': 4}, {'start_page': 58, 'title': 'Plug-in mines', 'subtitle': 'World’s first fully automated charging system for mining trucks', 'length': 6}, {'start_page': 64, 'title': 'Modeling flow', 'subtitle': 'Multiphysics-based reduced order model (ROM) for mine pollution control', 'length': 6}, {'start_page': 70, 'title': 'Industrial Metaverse', 'subtitle': 'How can the Industrial Metaverse help ABB and its customers?', 'length': 1}]\n"
     ]
    }
   ],
   "source": [
    "articles = utilities.extract_articles(user_journey[\"selected_journal\"])\n",
    "print(articles)"
   ]
  },
  {
   "cell_type": "markdown",
   "id": "2f56c87d",
   "metadata": {},
   "source": [
    "We then present the article list for users to select"
   ]
  },
  {
   "cell_type": "code",
   "execution_count": 6,
   "id": "f13bdd62",
   "metadata": {},
   "outputs": [
    {
     "data": {
      "application/vnd.jupyter.widget-view+json": {
       "model_id": "c6533712c3844e178f419249de2b6e40",
       "version_major": 2,
       "version_minor": 0
      },
      "text/plain": [
       "HTML(value='<span style=\"font-size: 18px; font-weight: bold;\">List of Articles:</span>', layout=Layout(margin=…"
      ]
     },
     "metadata": {},
     "output_type": "display_data"
    },
    {
     "data": {
      "application/vnd.jupyter.widget-view+json": {
       "model_id": "68785185cf01480a95bff92213063f09",
       "version_major": 2,
       "version_minor": 0
      },
      "text/plain": [
       "GridBox(children=(VBox(children=(ToggleButton(value=False, description='Editorial', layout=Layout(width='90%')…"
      ]
     },
     "metadata": {},
     "output_type": "display_data"
    }
   ],
   "source": [
    "article_widgets = []\n",
    "\n",
    "def toggle_handler(change, article, button):\n",
    "    if change['new']:  # Only act on the 'toggle on' action\n",
    "        user_journey[\"selected_article\"] = article\n",
    "        # Deselect all other buttons\n",
    "        for other_button in all_buttons:\n",
    "            if other_button != button:\n",
    "                other_button.value = False\n",
    "\n",
    "all_buttons = []  # List to store all toggle buttons\n",
    "\n",
    "for article in articles:\n",
    "    title_button = widgets.ToggleButton(\n",
    "        value=False,\n",
    "        description=article['title'],\n",
    "        tooltip=article['title'],\n",
    "        button_style='',\n",
    "        layout=widgets.Layout(width='90%')\n",
    "    )\n",
    "    subtitle_label = widgets.Label(\n",
    "        value=article['subtitle'],\n",
    "        layout=widgets.Layout(margin='0 0 20px 25px')  # Bottom margin added\n",
    "    )\n",
    "    \n",
    "    # Attach the handler to the toggle button's value change event\n",
    "    title_button.observe(lambda change, article=article, button=title_button: toggle_handler(change, article, button), names='value')\n",
    "    all_buttons.append(title_button)\n",
    "    \n",
    "    # Group the button and label in a vertical box (VBox)\n",
    "    group = widgets.VBox([title_button, subtitle_label])\n",
    "    article_widgets.append(group)\n",
    "\n",
    "# Layout the grouped widgets in a two-column grid\n",
    "grid = widgets.GridBox(article_widgets, layout=widgets.Layout(grid_template_columns=\"repeat(2, 50%)\"))\n",
    "\n",
    "# Add a title label\n",
    "title_label = widgets.HTML(value='<span style=\"font-size: 18px; font-weight: bold;\">List of Articles:</span>', layout=widgets.Layout(margin='0 0 10px 0'))\n",
    "\n",
    "\n",
    "display(title_label, grid)"
   ]
  },
  {
   "cell_type": "markdown",
   "id": "9269a13e",
   "metadata": {},
   "source": [
    "We can also present the original PDF to the user."
   ]
  },
  {
   "cell_type": "code",
   "execution_count": 31,
   "id": "f8f995eb",
   "metadata": {},
   "outputs": [],
   "source": [
    "def split_pdf(input_pdf_path, output_pdf_path, start_page, end_page):\n",
    "    \"\"\"Extracts a range of pages from a PDF and saves it as a new PDF.\n",
    "    \"\"\"\n",
    "    with open(input_pdf_path, 'rb') as source_pdf:\n",
    "        pdf_reader = PyPDF2.PdfReader(source_pdf)\n",
    "        pdf_writer = PyPDF2.PdfWriter()\n",
    "        \n",
    "        for page_num in range(start_page, end_page + 1):\n",
    "            page = pdf_reader.pages[page_num-1]\n",
    "            pdf_writer.add_page(page)\n",
    "        \n",
    "        with open(output_pdf_path, 'wb') as output_pdf:\n",
    "            pdf_writer.write(output_pdf)"
   ]
  },
  {
   "cell_type": "code",
   "execution_count": 34,
   "id": "e287b5f9",
   "metadata": {},
   "outputs": [
    {
     "data": {
      "text/html": [
       "\n",
       "        <iframe\n",
       "            width=\"800\"\n",
       "            height=\"600\"\n",
       "            src=\"./papers/temp.pdf\"\n",
       "            frameborder=\"0\"\n",
       "            allowfullscreen\n",
       "            \n",
       "        ></iframe>\n",
       "        "
      ],
      "text/plain": [
       "<IPython.lib.display.IFrame at 0x1ed5e7b5810>"
      ]
     },
     "metadata": {},
     "output_type": "display_data"
    }
   ],
   "source": [
    "# Extract selected PDF\n",
    "split_pdf(input_pdf_path=\"./papers/\"+user_journey['selected_journal'],\n",
    "         output_pdf_path=\"./papers/temp.pdf\",\n",
    "         start_page=user_journey['selected_article']['start_page'],\n",
    "         end_page=user_journey['selected_article']['start_page']+user_journey['selected_article']['length']-1)\n",
    "\n",
    "# Display selected article\n",
    "display(IFrame(\"./papers/temp.pdf\", width=1000, height=600))"
   ]
  },
  {
   "cell_type": "markdown",
   "id": "f83726b2",
   "metadata": {},
   "source": [
    "#### 2.3 Topic classification\n",
    "\n",
    "Once the article is selected, we can run a topic classification to determine the relevant topics."
   ]
  },
  {
   "cell_type": "code",
   "execution_count": 8,
   "id": "a143a2c1",
   "metadata": {},
   "outputs": [],
   "source": [
    "focal_points = {\n",
    "        \n",
    "    'Tech and product insights': {\n",
    "        'description': 'Spotlight on new tech and product',\n",
    "        'target audience': 'R&D engineers'\n",
    "    },\n",
    "    \n",
    "    'Market dynamics': {\n",
    "        'description': 'Explore the market implications',\n",
    "        'target audience': 'marketing professionals'\n",
    "    },\n",
    "    \n",
    "    'Operational transformation': {\n",
    "        'description': 'Insights on optimized processes and operations',\n",
    "        'target audience': 'operational experts & managers'\n",
    "    },\n",
    "    \n",
    "    'Sustainability initiatives': {\n",
    "        'description': \"ABB's contributions to environmental sustainability\",\n",
    "        'target audience': 'sustainability officers'\n",
    "    },\n",
    "    \n",
    "    'Customer experience': {\n",
    "        'description': \"Dive into the end-user benefits and experiences\",\n",
    "        'target audience': 'customers'\n",
    "    },\n",
    "    \n",
    "    'Industry challenges and opportunities': {\n",
    "        'description': \"Peering into hurdles and growth areas\",\n",
    "        'target audience': 'business developers'\n",
    "    },\n",
    "    \n",
    "    'Strategic collaborations': {\n",
    "        'description': \"Highlighting strategic partnerships\",\n",
    "        'target audience': 'partnership managers'\n",
    "    },\n",
    "    \n",
    "    'Strategy innovation': {\n",
    "        'description': \"Unpacking ABB's approaches to business strategies\",\n",
    "        'target audience': 'executives'\n",
    "    },\n",
    "    \n",
    "    'General overview': {\n",
    "        'description': \"A holistic breakdown of the article's key themes\",\n",
    "        'target audience': 'general public'\n",
    "    }\n",
    "}"
   ]
  },
  {
   "cell_type": "code",
   "execution_count": 9,
   "id": "577c231a",
   "metadata": {},
   "outputs": [
    {
     "name": "stdout",
     "output_type": "stream",
     "text": [
      "Processing 1/7th docs.\n",
      "Processing 3/7th docs.\n",
      "Processing 5/7th docs.\n",
      "Processing 7/7th docs.\n"
     ]
    }
   ],
   "source": [
    "# Extract metadata\n",
    "issue_name = user_journey['selected_journal']\n",
    "start_page = user_journey['selected_article']['start_page']\n",
    "end_page = user_journey['selected_article']['start_page'] + user_journey['selected_article']['length'] - 1\n",
    "\n",
    "# Initialize metadata\n",
    "clf = TopicClassifier(issue=issue_name, page_num=[start_page, end_page])\n",
    "relevant_topics = clf.classifier(topic_list=list(focal_points.keys()), verbose=True)\n",
    "print(relevant_topics)"
   ]
  },
  {
   "cell_type": "code",
   "execution_count": 10,
   "id": "03059e95",
   "metadata": {},
   "outputs": [
    {
     "name": "stdout",
     "output_type": "stream",
     "text": [
      "{'Sustainability initiatives': 6, 'Industry challenges and opportunities': 5, 'Tech and product insights': 4, 'Strategic collaborations': 3, 'Strategy innovation': 3, 'Market dynamics': 2, 'Operational transformation': 0, 'Customer experience': 0}\n"
     ]
    }
   ],
   "source": [
    "print(relevant_topics)"
   ]
  },
  {
   "cell_type": "code",
   "execution_count": null,
   "id": "54454293",
   "metadata": {},
   "outputs": [],
   "source": []
  }
 ],
 "metadata": {
  "kernelspec": {
   "display_name": "Python 3 (ipykernel)",
   "language": "python",
   "name": "python3"
  },
  "language_info": {
   "codemirror_mode": {
    "name": "ipython",
    "version": 3
   },
   "file_extension": ".py",
   "mimetype": "text/x-python",
   "name": "python",
   "nbconvert_exporter": "python",
   "pygments_lexer": "ipython3",
   "version": "3.10.11"
  }
 },
 "nbformat": 4,
 "nbformat_minor": 5
}
