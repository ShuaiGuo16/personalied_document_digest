{
 "cells": [
  {
   "cell_type": "markdown",
   "id": "ebfaae12",
   "metadata": {},
   "source": [
    "### Objective\n",
    "\n",
    "In this notebook, we create a simple demo to showcase the concept of role-playing dual-chatbot for digesting ABB Review articles."
   ]
  },
  {
   "cell_type": "markdown",
   "id": "cc8b4dd8",
   "metadata": {},
   "source": [
    "### 1. Import libraries"
   ]
  },
  {
   "cell_type": "code",
   "execution_count": null,
   "id": "f29f6a63",
   "metadata": {},
   "outputs": [],
   "source": [
    "from chatbot import JournalistBot, AuthorBot\n",
    "from embedding_engine import Embedder\n",
    "from topic_classifier import TopicClassifier\n",
    "import utilities\n",
    "\n",
    "import ipywidgets as widgets\n",
    "from IPython.display import display"
   ]
  },
  {
   "cell_type": "markdown",
   "id": "4c166330",
   "metadata": {},
   "source": [
    "### 2. User journey"
   ]
  },
  {
   "cell_type": "code",
   "execution_count": null,
   "id": "7e3fac04",
   "metadata": {},
   "outputs": [],
   "source": [
    "user_journey = {}"
   ]
  },
  {
   "cell_type": "markdown",
   "id": "d5f10dd6",
   "metadata": {},
   "source": [
    "#### 2.1 User selects journal issue "
   ]
  },
  {
   "cell_type": "code",
   "execution_count": null,
   "id": "29e7f3ed",
   "metadata": {},
   "outputs": [],
   "source": [
    "# Create radio buttons for the journal issues\n",
    "journal_issues = ['ABB Review_03_2022', 'ABB Review_01_2023', \n",
    "                  'ABB Review_02_2023', 'ABB Review_03_2023']\n",
    "\n",
    "radio_buttons = widgets.RadioButtons(\n",
    "    options=journal_issues,\n",
    "    description='Journal Issues:',\n",
    "    disabled=False\n",
    ")\n",
    "\n",
    "# Display the radio buttons\n",
    "display(radio_buttons)\n",
    "\n",
    "# Function to update and display the selected value\n",
    "def on_value_change(change):\n",
    "    user_behavior[\"selected_journal\"] = change['new']\n",
    "    print(f\"Selected Journal: {user_behavior['selected_journal']}\")\n",
    "\n",
    "# Set up an observer to watch for changes\n",
    "radio_buttons.observe(on_value_change, names='value')"
   ]
  }
 ],
 "metadata": {
  "kernelspec": {
   "display_name": "Python 3 (ipykernel)",
   "language": "python",
   "name": "python3"
  },
  "language_info": {
   "codemirror_mode": {
    "name": "ipython",
    "version": 3
   },
   "file_extension": ".py",
   "mimetype": "text/x-python",
   "name": "python",
   "nbconvert_exporter": "python",
   "pygments_lexer": "ipython3",
   "version": "3.10.11"
  }
 },
 "nbformat": 4,
 "nbformat_minor": 5
}
