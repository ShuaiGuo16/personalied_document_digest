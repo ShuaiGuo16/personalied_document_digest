{
 "cells": [
  {
   "cell_type": "code",
   "execution_count": 45,
   "id": "da5623a0",
   "metadata": {},
   "outputs": [
    {
     "data": {
      "application/vnd.jupyter.widget-view+json": {
       "model_id": "81a08004b8214c4b94742bed4a2d1bbf",
       "version_major": 2,
       "version_minor": 0
      },
      "text/plain": [
       "VBox(children=(HBox(children=(RadioButtons(options=('Option 1',), value='Option 1'), HTML(value='<span style=\"…"
      ]
     },
     "metadata": {},
     "output_type": "display_data"
    }
   ],
   "source": [
    "from IPython.display import display, HTML\n",
    "import ipywidgets as widgets\n",
    "\n",
    "# Define the options, relevancy scores, and box color\n",
    "option_labels = ['Option 1', 'Option 2', 'Option 3']\n",
    "relevancy_scores = [5, 3, 2]\n",
    "box_color = 'green'\n",
    "spacing = 5  # Adjust as needed\n",
    "\n",
    "def generate_boxes_with_spacing(score):\n",
    "    num_boxes = score\n",
    "    box_html = '<span style=\"display:inline-block; width: 20px; height: 20px; background-color: green; margin-right: 5px;\"></span>' * num_boxes\n",
    "    return box_html\n",
    "\n",
    "\n",
    "# Create radio buttons for options\n",
    "radio_buttons = [widgets.RadioButtons(options=[label], description='') for label in option_labels]\n",
    "\n",
    "# Create HTML widgets for colored boxes with spacing\n",
    "colored_boxes = [widgets.HTML(value=generate_boxes_with_spacing(score)) for score in relevancy_scores]\n",
    "\n",
    "# Create an output widget to display selected option and associated colored box\n",
    "output = widgets.Output()\n",
    "\n",
    "def update_output(change):\n",
    "    selected_index = change['owner'].index\n",
    "    selected_option = option_labels[selected_index]\n",
    "    with output:\n",
    "        output.clear_output(wait=True)\n",
    "        display(widgets.Label(f'Selected Option: {selected_option}'))\n",
    "        display(HTML(generate_colored_boxes_with_spacing(relevancy_scores[selected_index])))\n",
    "\n",
    "# Attach the update_output function to the radio buttons' observe method\n",
    "for rb in radio_buttons:\n",
    "    rb.observe(update_output, names='value')\n",
    "\n",
    "# Create layout using VBox and HBox widgets\n",
    "layout = widgets.VBox([widgets.HBox([rb, colored_box]) for rb, colored_box in zip(radio_buttons, colored_boxes)])\n",
    "\n",
    "# Display the layout and output\n",
    "display(layout)\n",
    "# display(output)"
   ]
  },
  {
   "cell_type": "code",
   "execution_count": null,
   "id": "38081d5a",
   "metadata": {},
   "outputs": [],
   "source": []
  }
 ],
 "metadata": {
  "kernelspec": {
   "display_name": "Python 3 (ipykernel)",
   "language": "python",
   "name": "python3"
  },
  "language_info": {
   "codemirror_mode": {
    "name": "ipython",
    "version": 3
   },
   "file_extension": ".py",
   "mimetype": "text/x-python",
   "name": "python",
   "nbconvert_exporter": "python",
   "pygments_lexer": "ipython3",
   "version": "3.8.12"
  }
 },
 "nbformat": 4,
 "nbformat_minor": 5
}
