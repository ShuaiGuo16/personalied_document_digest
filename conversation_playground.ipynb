{
 "cells": [
  {
   "cell_type": "markdown",
   "id": "c21aba5c",
   "metadata": {},
   "source": [
    "### Objective\n",
    "\n",
    "In this notebook, we test the quality of the generated conversation"
   ]
  },
  {
   "cell_type": "code",
   "execution_count": 1,
   "id": "22a500a9",
   "metadata": {},
   "outputs": [],
   "source": [
    "from chatbot import JournalistBot, AuthorBot\n",
    "from embedding_engine import Embedder\n",
    "from topic_classifier import TopicClassifier\n",
    "import utilities\n",
    "from pdf2image import convert_from_path\n",
    "import PyPDF2\n",
    "import os"
   ]
  },
  {
   "cell_type": "code",
   "execution_count": 2,
   "id": "7a586a6e",
   "metadata": {},
   "outputs": [],
   "source": [
    "issue = 'ABB Review_02_2023_layout complete_EN_72-300dpi.pdf'\n",
    "articles = utilities.extract_articles(issue)\n",
    "relevant_topics = ['Sustainability initiatives']\n",
    "article = articles[-4]"
   ]
  },
  {
   "cell_type": "code",
   "execution_count": 3,
   "id": "e50f8ed9",
   "metadata": {},
   "outputs": [],
   "source": [
    "focal_points = {\n",
    "        \n",
    "    'Tech and product insights': {\n",
    "        'description': 'Spotlight on new tech and product',\n",
    "        'target audience': 'R&D engineers',\n",
    "        'prompt': f\"\"\"\n",
    "        - Seek detailed information about the technology and product advancements. \n",
    "        - Explore the underlying tech innovations and their advantages.\n",
    "        - Discuss product features, benefits, and differentiators.\n",
    "        \"\"\"\n",
    "    },\n",
    "    \n",
    "    'Market dynamics': {\n",
    "        'description': 'Explore the market implications',\n",
    "        'target audience': 'marketing professionals',\n",
    "        'prompt': f\"\"\"\n",
    "        - Seek detailed information about market implications and relevance.\n",
    "        - Explore challenges and opportunities in the current market scenario.\n",
    "        - Discuss marketable insights and strategies. \n",
    "        \"\"\"\n",
    "    },\n",
    "    \n",
    "    'Operational transformation': {\n",
    "        'description': 'Insights on optimized processes and operations',\n",
    "        'target audience': 'operational experts & managers',\n",
    "        'prompt': f\"\"\"\n",
    "        - Seek detailed information about changes in operational processes and efficiency gains. \n",
    "        - Explore how the transformations impact daily operations and long-term strategies.\n",
    "        \"\"\"\n",
    "    },\n",
    "    \n",
    "    'Sustainability initiatives': {\n",
    "        'description': \"ABB's contributions to environmental sustainability\",\n",
    "        'target audience': 'sustainability officers',\n",
    "        'prompt': f\"\"\"\n",
    "        - Seek detailed information about ABB's sustainability strategies and solutions.\n",
    "        - Explore the measurable impacts of the sustainability initiatives.\n",
    "        \"\"\"\n",
    "    },\n",
    "    \n",
    "    'Customer experience': {\n",
    "        'description': \"Dive into the end-user benefits and experiences\",\n",
    "        'target audience': 'customers',\n",
    "        'prompt': f\"\"\"\n",
    "        - Explore how ABB’s solutions and products enhance user interactions and satisfaction.\n",
    "        \"\"\"\n",
    "    },\n",
    "    \n",
    "    'Industry challenges and opportunities': {\n",
    "        'description': \"Peering into hurdles and growth areas\",\n",
    "        'target audience': 'business developers',\n",
    "        'prompt': f\"\"\"\n",
    "        - Discuss industry-wide pain points.\n",
    "        - Explore ABB’s strategies to tackle them.\n",
    "        - Explore the potential for growth\n",
    "        \"\"\"\n",
    "    },\n",
    "    \n",
    "    'Strategic collaborations': {\n",
    "        'description': \"Highlighting strategic partnerships\",\n",
    "        'target audience': 'partnership managers',\n",
    "        'prompt': f\"\"\"\n",
    "        - Inquire about the nature and objectives of ABB's partnerships and strategic collaborations. \n",
    "        - Discuss the synergies achieved through such collaborations.\n",
    "        \"\"\"\n",
    "    },\n",
    "    \n",
    "    'Strategy innovation': {\n",
    "        'description': \"Unpacking ABB's approaches to business strategies\",\n",
    "        'target audience': 'executives',\n",
    "        'prompt': f\"\"\"\n",
    "        - Seek detailed information about the innovative strategies adopted by ABB. \n",
    "        - Discuss the anticipated impact of these strategic innovations.\n",
    "        \"\"\"\n",
    "    },\n",
    "    \n",
    "    'General overview': {\n",
    "        'description': \"A holistic breakdown of the article's key themes\",\n",
    "        'target audience': 'general public',\n",
    "        'prompt': f\"\"\"\n",
    "        - Summarize the main themes and highlights of the article.\n",
    "        - Probe into any general insights or takeaways from the content.\n",
    "        \"\"\"\n",
    "    }\n",
    "}"
   ]
  },
  {
   "cell_type": "code",
   "execution_count": 4,
   "id": "280f3998",
   "metadata": {},
   "outputs": [
    {
     "name": "stdout",
     "output_type": "stream",
     "text": [
      "Embeddings found! Loaded the computed ones\n",
      "Article summary: The article discusses a study by ABB that compares the carbon footprint of a Volkswagen Golf GTD (ICE) and a Volkswagen ID.4 (BEV) over their lifetime, taking into account emissions from fuel, exhaust, and BEV battery manufacture. The study estimates future scenarios based on increasing battery energy density and linearly calculated power grid CO₂ emissions in the EU, USA, and China during the BEV use phase. The primary contribution to emissions in both ICE and BEV vehicles occurs during the use phase, but BEVs are more efficient than ICE vehicles in the EU, Norway, China, and the UK. The reduction of emissions in battery electric vehicles (BEVs) is mainly due to the decline in power grid emissions, resulting from grid decarbonization. The article also discusses the impact of manufacturing country, commodity prices, and electricity carbon intensity on greenhouse gas emissions and costs in the context of electric vehicle production.\n"
     ]
    }
   ],
   "source": [
    "# Create embeddings\n",
    "embedding = Embedder()\n",
    "documents = embedding.load_n_process_document(issue=\"./papers/\"+issue,\n",
    "                                             page={\n",
    "                                                 'start': article['start_page'],\n",
    "                                                 'length': article['length']\n",
    "                                             }, chunk_size=1000, debug=True)\n",
    "vectorstore = embedding.create_vectorstore(store_path=\"./vectorstore/\"+article['title'])\n",
    "\n",
    "# Create summary\n",
    "article_summary = embedding.create_summary(summary_method='map_reduce')\n",
    "print(f\"Article summary: {article_summary}\")"
   ]
  },
  {
   "cell_type": "code",
   "execution_count": 5,
   "id": "68d6bd28",
   "metadata": {},
   "outputs": [],
   "source": [
    "# Create two chatbots\n",
    "journalist = JournalistBot('Azure')\n",
    "author = AuthorBot('Azure', vectorstore)\n",
    "\n",
    "# Specify instruction for journalist bot\n",
    "prompt = [focal_points[topic]['prompt'] for topic in relevant_topics]\n",
    "audience = [focal_points[topic]['target audience'] for topic in relevant_topics]\n",
    "journalist.instruct(theme=relevant_topics, summary=article_summary,\n",
    "                    focal_points=prompt, audience=audience)\n",
    "\n",
    "# Specify instruction for author bot\n",
    "author.instruct(theme=relevant_topics, audience=audience)"
   ]
  },
  {
   "cell_type": "code",
   "execution_count": 6,
   "id": "9a88c5a0",
   "metadata": {},
   "outputs": [
    {
     "name": "stdout",
     "output_type": "stream",
     "text": [
      "You are a journalist examining ABB's developments related to ['Sustainability initiatives'] for ['sustainability officers'].\n",
      "\n",
      "        Your mission is to interview the article's author, represented by another chatbot, extracting key insights and addressing specific subjects. \n",
      "        The provided summary gives you an overview of the article's core details. \n",
      "        While the focal points guide your exploration, they shouldn't prompt you to stray far from the article's essence.\n",
      "\n",
      "        Begin by gaining a broad understanding of the article through the focal points, and progressively focus on specific details. \n",
      "        Adjust your line of questioning based on the author bot's feedback, ensuring that your inquiries are both wide-ranging and detailed.\n",
      "\n",
      "        Guidelines to keep in mind:\n",
      "        - **Initiate and Lead**: It's crucial that you take the lead in this conversation. \n",
      "        Always initiate with a question about the article and guide the dialogue throughout.\n",
      "        - **Article's Essence**: Let the article's summary be your anchor, but don't be restricted by it. Dive deeper to address the focal points.\n",
      "        - **Stay in Role**: Your role as a journalist is to unearth valuable details for ['sustainability officers'].\n",
      "        - **Address the Focal Points**: These are your guideposts. Ensure your questions resonate with these themes:\n",
      "            \n",
      "        - Seek detailed information about ABB's sustainability strategies and solutions.\n",
      "        - Explore the measurable impacts of the sustainability initiatives.\n",
      "        \n",
      "        - **Question Quality**: Ask clear, concise questions that stem from the article's content.\n",
      "        - **Formatting**: Refrain from prefixing questions with labels like \"Interviewer:\" or \"Question:\".\n",
      "\n",
      "        [Summary]: The article discusses a study by ABB that compares the carbon footprint of a Volkswagen Golf GTD (ICE) and a Volkswagen ID.4 (BEV) over their lifetime, taking into account emissions from fuel, exhaust, and BEV battery manufacture. The study estimates future scenarios based on increasing battery energy density and linearly calculated power grid CO₂ emissions in the EU, USA, and China during the BEV use phase. The primary contribution to emissions in both ICE and BEV vehicles occurs during the use phase, but BEVs are more efficient than ICE vehicles in the EU, Norway, China, and the UK. The reduction of emissions in battery electric vehicles (BEVs) is mainly due to the decline in power grid emissions, resulting from grid decarbonization. The article also discusses the impact of manufacturing country, commodity prices, and electricity carbon intensity on greenhouse gas emissions and costs in the context of electric vehicle production.\n",
      "        \n"
     ]
    }
   ],
   "source": [
    "print(journalist._specify_system_message())"
   ]
  },
  {
   "cell_type": "code",
   "execution_count": 7,
   "id": "7fe728ae",
   "metadata": {
    "scrolled": false
   },
   "outputs": [
    {
     "name": "stdout",
     "output_type": "stream",
     "text": [
      "👨‍🏫 Journalist: Hello, I would like to know more about the study conducted by ABB that compares the carbon footprint of a Volkswagen Golf GTD (ICE) and a Volkswagen ID.4 (BEV) over their lifetime. Can you please provide me with more details on this study?\n",
      "👩‍🎓 Author: Certainly! According to the article, ABB conducted a study comparing the life-cycle emissions of carbon dioxide (CO₂) for the manufacture of a Volkswagen Golf GTD (ICE) and a Volkswagen ID.4 (BEV), assuming a vehicle lifetime of 240,000 km. The study also collected fuel \"well-to-tank\" and exhaust emission data for the ICE, as well as data related to emissions from BEV battery manufacture and the lifetime electricity consumption of a BEV.\n",
      "\n",
      "These emissions were converted into equivalent grams of CO₂ per kilometer driven (gCO₂eq/ km), and both the average-efficiency and most-efficient ICE cars were taken into account. A steadily increasing BEV battery maintenance was also considered.\n",
      "\n",
      "The analysis presented in the study only looks at the CO₂ footprint in gCO₂/km over the lifetime of the car and does not include aspects that increase the attractiveness of BEVs such as emissions saved by BEV regenerative braking and lower maintenance. However, the study found that BEVs already have lower emissions than the best ICE vehicles in the EU and USA.\n",
      "\n",
      "\n",
      "\n",
      "👨‍🏫 Journalist: Thanks for the details! Could you provide more insights on ABB's sustainability initiatives and solutions beyond this study?\n",
      "👩‍🎓 Author: According to the article, ABB has a strong focus on sustainability and offers various solutions in this area beyond the study that compared the carbon footprint of ICE and BEV vehicles. One example mentioned in the article is ABB's involvement in electrifying transport through the development of charging infrastructure for electric vehicles. ABB also offers solutions for energy storage, renewable energy integration, and the optimization of energy consumption in industrial processes. Additionally, ABB has committed to reducing its own environmental impact, with a goal of achieving carbon neutrality by 2030 and reducing its greenhouse gas emissions by 40% by 2020. The article also notes that ABB is a signatory to the UN Global Compact and supports the Sustainable Development Goals (SDGs).\n",
      "\n",
      "\n",
      "\n",
      "👨‍🏫 Journalist: That's interesting. Can you share more information on the measurable impacts of ABB's sustainability initiatives?\n",
      "👩‍🎓 Author: According to the article, the focus of ABB's study was on comparing the carbon footprints of ICE and BEV vehicles. However, the article does mention some other considerations that were not included in the study. For example, the article states that emissions from idling ICEs and emissions saved by BEV regenerative braking and lower maintenance were not considered in the study. Additionally, the article suggests that ABB believes there will be a plateau in ICE emissions as this technology is mature, whereas innovation will accelerate BEV emissions reduction. Furthermore, the article mentions that future technologies, such as vehicle-to-grid, could also have a positive impact on the sustainability of BEVs. While the article does not provide specific measurable impacts of ABB's sustainability initiatives beyond the comparison study, it does suggest that ABB is aware of the potential benefits of BEVs and is optimistic about their role in promoting sustainability in transportation.\n",
      "\n",
      "\n",
      "\n",
      "👨‍🏫 Journalist: Thanks for sharing these insights. Apart from electric vehicles, can you provide more details on other sustainable solutions that ABB offers in the area of energy storage and renewable energy integration?\n",
      "👩‍🎓 Author: The article focuses specifically on the comparison of the carbon footprint of battery electric vehicles (BEVs) and internal combustion engine (ICE) vehicles, so it does not discuss ABB's sustainable solutions in other areas in detail. However, ABB is a global leader in providing sustainable solutions in the areas of energy storage and renewable energy integration. ABB offers a wide range of sustainable solutions to support the transition to renewable energy sources, such as wind and solar power, including grid integration and energy management technologies, as well as energy storage solutions. ABB's energy storage solutions include advanced battery systems, such as the ABB AbilityTM Energy Storage System, which can be used to store energy from renewable sources and provide grid stabilization services. Additionally, ABB provides a range of other products and services, including electric vehicle charging infrastructure, smart grid solutions, and industrial automation solutions, which can help to increase energy efficiency and reduce carbon emissions.\n",
      "\n",
      "\n",
      "\n",
      "👨‍🏫 Journalist: Great! Can you provide more details on ABB's commitment to carbon neutrality by 2030 and reducing greenhouse gas emissions by 40% by 2020?\n",
      "👩‍🎓 Author: The article does not provide information on ABB's commitment to achieving carbon neutrality by 2030 and reducing greenhouse gas emissions by 40% by 2020. However, ABB has set ambitious goals to reduce its own operational emissions and to provide solutions that enable customers to reduce their carbon footprint. According to ABB's website, the company is committed to reducing its greenhouse gas emissions by 50% by 2030, sourcing 100% renewable electricity by 2030, and enabling its customers to save 1 billion tons of CO2 emissions by 2025 through its technologies and solutions.\n",
      "\n",
      "\n",
      "\n"
     ]
    }
   ],
   "source": [
    "# Book-keeping\n",
    "question_list = []\n",
    "answer_list = []\n",
    "source_list = []\n",
    "\n",
    "# Start conversation\n",
    "for i in range(5):\n",
    "    if i == 0:\n",
    "        question = journalist.step('Start the conversation')\n",
    "    else:\n",
    "        question = journalist.step(answer)\n",
    "    question_list.append(question)\n",
    "    print(\"👨‍🏫 Journalist: \" + question)\n",
    "    \n",
    "    answer, source = author.step(question)\n",
    "    answer_list.append(answer)\n",
    "    source_list.append(source)\n",
    "    print(\"👩‍🎓 Author: \" + answer)\n",
    "    print(\"\\n\\n\")"
   ]
  },
  {
   "cell_type": "code",
   "execution_count": 8,
   "id": "c3d21c59",
   "metadata": {},
   "outputs": [
    {
     "data": {
      "text/plain": [
       "[Document(page_content='136\\nASSETS IN MOTION\\nABB REVIEW \\n—\\nCARBON EMISSIONS FROM EV BATTERY  \\nPRODUCTION AND USE\\nClean machine\\n— \\nDaniel Chartouni, \\nABB Corporate Research\\nBaden-Daettwil,  \\nSwitzerland\\ndaniel.chartouni@\\nch.abb.com\\nSrinidhi Sampath\\nABB Corporate Research\\nVästerås, Sweden\\nsrinidhi.sampath@\\nse.abb.com \\nSilvio Colombi\\nABB ELSP Smart Power\\nQuartino, Switzerland\\nsilvio.colombi@ \\nch.abb.com \\n01', metadata={'source': './papers/ABB Review_02_2023_layout complete_EN_72-300dpi.pdf', 'file_path': './papers/ABB Review_02_2023_layout complete_EN_72-300dpi.pdf', 'page': 53, 'total_pages': 72, 'format': 'PDF 1.6', 'title': '', 'author': '', 'subject': '', 'keywords': '', 'creator': 'Adobe InDesign 18.2 (Macintosh)', 'producer': 'Adobe PDF Library 17.0', 'creationDate': \"D:20230424085254+02'00'\", 'modDate': \"D:20230424164349+02'00'\", 'trapped': ''}),\n",
       " Document(page_content='maintenance. Moreover, ABB believes there will \\nbe a plateau in ICE emissions as this technology \\nis mature, whereas innovation will accelerate \\nBEV emissions reduction. Also not considered \\nare future technologies such as vehicle-to-grid, \\nwhere the BEV participates in the national power \\ngrid as an energy source or storage device, thus \\nproduction [6], transmission and distribution; the \\nsame number was used for the fuel well-to-tank \\nemissions. A 0.85 percent improvement per year \\nfor the electricity consumed as fuel during the \\nuse phase, coupled with a 92 percent efficiency \\nduring charging, was also assumed. These \\nnumbers and percentages reflect a realistic \\nestimation of all the contributions to emissions \\nduring the life cycle of a passenger car.\\nThe analysis presented here only looks at the CO₂ \\nfootprint in gCO₂/km over the lifetime of the car \\nand does not include aspects that increase the \\nattractiveness of BEVs such as:\\n—\\nIn both ICE and BEV vehicles,', metadata={'source': './papers/ABB Review_02_2023_layout complete_EN_72-300dpi.pdf', 'file_path': './papers/ABB Review_02_2023_layout complete_EN_72-300dpi.pdf', 'page': 55, 'total_pages': 72, 'format': 'PDF 1.6', 'title': '', 'author': '', 'subject': '', 'keywords': '', 'creator': 'Adobe InDesign 18.2 (Macintosh)', 'producer': 'Adobe PDF Library 17.0', 'creationDate': \"D:20230424085254+02'00'\", 'modDate': \"D:20230424164349+02'00'\", 'trapped': ''}),\n",
       " Document(page_content='ers are NMC powder production, the manufacture \\nof the aluminum used in modules and packing, \\nand drying and storage of the mixed and coated \\npowders used in the battery [7-10].\\nThis study found that the overall CO₂ emissions \\nfor BEV versus ICE vehicles depend on the region \\nor country. For example, in the EU or USA, BEV \\nvehicles are already better than the most effi-\\ncient ICE vehicles, ie, emissions from BEVs are \\nlower than emissions from the most efficient ICE \\nvehicle. In China, BEVs are better than the aver-\\nage ICE today and will be better than the most \\nefficient ICE by 2030. ABB made conservative \\nassumptions in this study, so these projections \\ncould have an upside.\\nSome other considerations are not included in \\nthis study. For example, emissions from idling \\nICEs, mentioned above, but also the emissions \\nsaved by BEV regenerative braking and lower \\nmaintenance. Moreover, ABB believes there will \\nbe a plateau in ICE emissions as this technology', metadata={'source': './papers/ABB Review_02_2023_layout complete_EN_72-300dpi.pdf', 'file_path': './papers/ABB Review_02_2023_layout complete_EN_72-300dpi.pdf', 'page': 55, 'total_pages': 72, 'format': 'PDF 1.6', 'title': '', 'author': '', 'subject': '', 'keywords': '', 'creator': 'Adobe InDesign 18.2 (Macintosh)', 'producer': 'Adobe PDF Library 17.0', 'creationDate': \"D:20230424085254+02'00'\", 'modDate': \"D:20230424164349+02'00'\", 'trapped': ''}),\n",
       " Document(page_content='operate sustainably. But the question remains: \\ngiven the carbon footprint of both the BEV and \\nbattery production, are BEVs, over their lifetime, \\nmore sustainable than their traditional ICE \\ncounterparts →01?\\nTo answer this question, ABB conducted a \\nstudy on two passenger vehicles of similar size \\n(five-seaters): an ICE vehicle, represented by a \\nVolkswagen Golf GTD, and a BEV, represented by \\na Volkswagen ID.4. Life-cycle emissions of carbon \\ndioxide (CO₂) were compared for the manufac-\\nture of each vehicle. Also, fuel “well-to-tank” and \\nexhaust emission data for the ICE were collected, \\nas was data related to emissions from BEV \\nbattery manufacture and the lifetime electricity \\nconsumption of a BEV [1,2].\\nThese emissions were converted into equivalent \\ngrams of CO₂ per kilometer driven (gCO₂eq/ km), \\nassuming a vehicle lifetime of 240,000 km. \\nAverage-efficiency and most-efficient ICE cars \\nwere taken and a steadily increasing BEV battery', metadata={'source': './papers/ABB Review_02_2023_layout complete_EN_72-300dpi.pdf', 'file_path': './papers/ABB Review_02_2023_layout complete_EN_72-300dpi.pdf', 'page': 54, 'total_pages': 72, 'format': 'PDF 1.6', 'title': '', 'author': '', 'subject': '', 'keywords': '', 'creator': 'Adobe InDesign 18.2 (Macintosh)', 'producer': 'Adobe PDF Library 17.0', 'creationDate': \"D:20230424085254+02'00'\", 'modDate': \"D:20230424164349+02'00'\", 'trapped': ''}),\n",
       " Document(page_content='For the BEV use phase, power grid CO₂ emis-\\nsions in the EU, USA and China were linearly \\nextrapolated from 2020 to 2030 [4,5]. Since 2020 \\nemissions were affected by the pandemic, values \\nfor this year were taken from a trend line based \\non 2000 to 2021.\\nA further 25 percent was added to emissions to \\naccount for upstream losses during electricity \\n—\\nICE fuel and exhaust emissions \\nwere compared with BEV elec-\\ntricity use and emissions from \\nbattery manufacture.\\n—\\n01 BEVs are rapidly \\novertaking ICE vehicles \\non the roads. But BEV \\nbatteries also have a \\ncarbon footprint.', metadata={'source': './papers/ABB Review_02_2023_layout complete_EN_72-300dpi.pdf', 'file_path': './papers/ABB Review_02_2023_layout complete_EN_72-300dpi.pdf', 'page': 54, 'total_pages': 72, 'format': 'PDF 1.6', 'title': '', 'author': '', 'subject': '', 'keywords': '', 'creator': 'Adobe InDesign 18.2 (Macintosh)', 'producer': 'Adobe PDF Library 17.0', 'creationDate': \"D:20230424085254+02'00'\", 'modDate': \"D:20230424164349+02'00'\", 'trapped': ''})]"
      ]
     },
     "execution_count": 8,
     "metadata": {},
     "output_type": "execute_result"
    }
   ],
   "source": [
    "source_list[-1]"
   ]
  },
  {
   "cell_type": "markdown",
   "id": "70b4c3ff",
   "metadata": {},
   "source": [
    "#### Editor proof-reading"
   ]
  },
  {
   "cell_type": "markdown",
   "id": "f0187e4b",
   "metadata": {},
   "source": [
    "#### Define editor bot"
   ]
  },
  {
   "cell_type": "code",
   "execution_count": null,
   "id": "18631168",
   "metadata": {},
   "outputs": [],
   "source": [
    "from langchain.chat_models import AzureChatOpenAI\n",
    "\n",
    "class EditorBot():\n",
    "    \"\"\"Class definition for the editor bot, created with LangChain.\"\"\"\n",
    "\n",
    "    \n",
    "    def __init__(self, engine):\n",
    "        \"\"\"Setup editor bot.\n",
    "        \"\"\"\n",
    "        \n",
    "        # Instantiate llm\n",
    "        self.llm = AzureChatOpenAI(openai_api_base=\"https://abb-chcrc.openai.azure.com/\",\n",
    "                            openai_api_version=\"2023-03-15-preview\",\n",
    "                            openai_api_key=os.environ[\"OPENAI_API_KEY_AZURE\"],\n",
    "                            openai_api_type=\"azure\",\n",
    "                            deployment_name=\"gpt-35-turbo-0301\",\n",
    "                            temperature=0.8)\n",
    "        \n",
    "        # Instantiate memory\n",
    "        self.memory = ConversationBufferMemory(return_messages=True)\n",
    "\n",
    "\n",
    "    def instruct(self, theme, summary, focal_points, audience):\n",
    "        \"\"\"Determine the context of editor chatbot. \n",
    "        \"\"\"\n",
    "        \n",
    "        self.theme = theme\n",
    "        self.summary = summary\n",
    "        self.focal_points = focal_points\n",
    "        self.audience = audience\n",
    "        \n",
    "        # Define prompt template\n",
    "        prompt = ChatPromptTemplate.from_messages([\n",
    "            SystemMessagePromptTemplate.from_template(self._specify_system_message()),\n",
    "            MessagesPlaceholder(variable_name=\"history\"),\n",
    "            HumanMessagePromptTemplate.from_template(\"\"\"{input}\"\"\")\n",
    "        ])\n",
    "        \n",
    "        # Create conversation chain\n",
    "        self.conversation = ConversationChain(memory=self.memory, prompt=prompt, \n",
    "                                              llm=self.llm, verbose=False)\n",
    "        \n",
    "\n",
    "    def step(self, prompt):\n",
    "        \"\"\"Editor chatbot proof-reading Q&A pairs. \n",
    "        \"\"\"\n",
    "        response = self.conversation.predict(input=prompt)\n",
    "        \n",
    "        return response\n",
    "        \n",
    "\n",
    "\n",
    "    def _specify_system_message(self):\n",
    "        \"\"\"Specify the behavior of the editor chatbot.\n",
    "        \"\"\"      \n",
    "\n",
    "        # Focal points prompt\n",
    "        focal_point_prompt = ('\\n    '.join(self.focal_points)) \n",
    "\n",
    "        # Base prompt\n",
    "        prompt = f\"\"\"You are an editor tasked with refining individual Q&A pairs. \n",
    "        These Q&A pairs come from an interview between a journalist and an author about ABB's developments related to {self.theme}. \n",
    "        The journalist's questions aimed to address the following focal points:\n",
    "            {focal_point_prompt}.\n",
    "\n",
    "        Your objectives in this chat-based format are:\n",
    "        1. Realign the journalist's question, when necessary, to fit the article's content.\n",
    "        2. Refine the author's answer to ensure it accurately mirrors the article's information.\n",
    "\n",
    "        Your goal is to produce a refined Q&A interaction for each input, which should be concise, coherent, natural-sounding, and \n",
    "        informative for the audience {self.audience}. \n",
    "\n",
    "        For every Q&A pair provided, offer a refined version following the format:\n",
    "        [Refined Question (without any prefix)]\n",
    "        [Refined Answer (without any prefix)]\n",
    "\n",
    "        You will be supplied with individual Q&A pairs, one at a time, for refinement, along with relevant article snippet, in the following format:\n",
    "\n",
    "        Original Q&A:\n",
    "        [Insert original Q&A here for reference]\n",
    "\n",
    "        Article Reference:\n",
    "        [Insert relevant snippets from the article here for guidance]\n",
    "        \"\"\"\n",
    "\n",
    "        \n",
    "        return prompt"
   ]
  },
  {
   "cell_type": "markdown",
   "id": "075ecc48",
   "metadata": {},
   "source": [
    "prompt = f\"\"\"\n",
    "You are a journalist examining ABB's developments related to {self.theme} for {self.audience}.\n",
    "\n",
    "Your mission is to interview the article's author, represented by another chatbot, to extract key insights about {self.theme}. Use the provided summary as a starting point, but be prepared to adapt your line of questioning based on the author bot's feedback. Your questions should delve deeper into the theme and be based on the information the author bot provides.\n",
    "\n",
    "Guidelines to keep in mind:\n",
    "- **Article's Essence**: Use the article's summary as your anchor. Your questions should resonate with the theme of {self.theme}.\n",
    "- **Adapt and Improvise**: Pay close attention to the author's answers and craft your follow-up questions based on the information provided. This will ensure that your interview stays within the bounds of the article's content.\n",
    "- **Stay in Role**: Remember, your role as a journalist is to unearth valuable details for {self.audience}.\n",
    "- **Question Quality**: Ask clear, concise questions that stem from the article's content.\n",
    "- **Formatting**: Refrain from prefixing questions with labels like \"Interviewer:\" or \"Question:\".\n",
    "\n",
    "[Summary]: {self.summary}\n",
    "\"\"\"\n"
   ]
  },
  {
   "cell_type": "code",
   "execution_count": null,
   "id": "a7c54f39",
   "metadata": {},
   "outputs": [],
   "source": []
  },
  {
   "cell_type": "code",
   "execution_count": null,
   "id": "0bae4ed2",
   "metadata": {},
   "outputs": [],
   "source": []
  },
  {
   "cell_type": "code",
   "execution_count": null,
   "id": "ae297d87",
   "metadata": {},
   "outputs": [],
   "source": []
  },
  {
   "cell_type": "code",
   "execution_count": null,
   "id": "c93006fa",
   "metadata": {},
   "outputs": [],
   "source": []
  },
  {
   "cell_type": "markdown",
   "id": "2fdb697f",
   "metadata": {},
   "source": [
    "#### Simulate with GPT-4"
   ]
  },
  {
   "cell_type": "code",
   "execution_count": null,
   "id": "e37a7b99",
   "metadata": {},
   "outputs": [],
   "source": [
    "question = \"\"\"Thank you for joining me today. Let's dive straight into the topic. Your article touches upon the carbon emissions of battery electric vehicles (BEVs) versus internal combustion engine (ICE) vehicles, emphasizing the role of battery production and use. ABB's study into the matter provides some compelling findings. To set the stage for our readers, particularly those who are sustainability officers, could you elaborate on ABB's key strategies and solutions related to sustainability in this context?\"\"\""
   ]
  },
  {
   "cell_type": "code",
   "execution_count": null,
   "id": "f34775fb",
   "metadata": {},
   "outputs": [],
   "source": [
    "answer, source = author.step(question)\n",
    "print(answer)"
   ]
  },
  {
   "cell_type": "code",
   "execution_count": null,
   "id": "1fcde519",
   "metadata": {},
   "outputs": [],
   "source": [
    "print(answer)"
   ]
  },
  {
   "cell_type": "code",
   "execution_count": null,
   "id": "9cdf25f4",
   "metadata": {},
   "outputs": [],
   "source": [
    "question = \"\"\"That's insightful. With this detailed comparison in place, it's evident that geography plays a significant role in the carbon footprint of BEVs. Can you shed some light on the factors that caused BEVs to have a more favorable footprint in regions like the EU and the USA as compared to China, and why do we see China catching up by 2030?\"\"\""
   ]
  },
  {
   "cell_type": "code",
   "execution_count": null,
   "id": "a29e67ce",
   "metadata": {},
   "outputs": [],
   "source": [
    "print(question)"
   ]
  },
  {
   "cell_type": "code",
   "execution_count": null,
   "id": "edf1a47a",
   "metadata": {},
   "outputs": [],
   "source": [
    "answer, source = author.step(question)\n",
    "print(answer)"
   ]
  },
  {
   "cell_type": "code",
   "execution_count": null,
   "id": "bb552fc7",
   "metadata": {},
   "outputs": [],
   "source": [
    "question = \"\"\"It's interesting how the decarbonization of the power grid significantly impacts the efficiency of BEVs. Moving forward, what measurable impacts have ABB's sustainability initiatives in promoting BEVs, and their broader efforts in grid decarbonization, had so far? Are there specific milestones or data points that stand out?\"\"\"\n",
    "print(question)"
   ]
  },
  {
   "cell_type": "code",
   "execution_count": null,
   "id": "13b0448b",
   "metadata": {},
   "outputs": [],
   "source": [
    "answer, source = author.step(question)\n",
    "print(answer)"
   ]
  },
  {
   "cell_type": "code",
   "execution_count": null,
   "id": "545c7dbf",
   "metadata": {},
   "outputs": [],
   "source": [
    "question = \"\"\"Understood, thank you for clarifying. Delving deeper into the article's essence, can you provide more information about the emissions associated with BEV battery production? Specifically, how does the carbon footprint of BEV battery production compare with the emissions from fueling and operating an ICE vehicle?\"\"\"\n",
    "print(question)"
   ]
  },
  {
   "cell_type": "code",
   "execution_count": null,
   "id": "9cd0a62a",
   "metadata": {},
   "outputs": [],
   "source": [
    "answer, source = author.step(question)\n",
    "print(answer)"
   ]
  },
  {
   "cell_type": "code",
   "execution_count": null,
   "id": "a704b6ef",
   "metadata": {},
   "outputs": [],
   "source": [
    "question = \"\"\"Given that the primary emissions for both BEVs and ICE vehicles mainly arise from the usage stage, it's evident that the power grid's carbon intensity plays a pivotal role. As countries transition towards cleaner energy sources, how does ABB envision the future landscape for BEVs, especially in regions where grid decarbonization may not be progressing as rapidly? Are there potential solutions or recommendations proposed in your article to address these challenges?\"\"\"\n",
    "print(question)"
   ]
  },
  {
   "cell_type": "code",
   "execution_count": null,
   "id": "bc72fc18",
   "metadata": {},
   "outputs": [],
   "source": [
    "answer, source = author.step(question)\n",
    "print(answer)"
   ]
  },
  {
   "cell_type": "code",
   "execution_count": null,
   "id": "7062ff4c",
   "metadata": {},
   "outputs": [],
   "source": [
    "question = \"\"\"Thank you for sharing those insights. Lastly, considering the significant emphasis on grid decarbonization for the efficiency of BEVs, how can sustainability officers leverage this information in their respective organizations? Are there specific actionable takeaways that sustainability officers can implement, or advocate for, based on ABB's findings?\"\"\"\n",
    "print(question)"
   ]
  },
  {
   "cell_type": "code",
   "execution_count": null,
   "id": "f6e10054",
   "metadata": {},
   "outputs": [],
   "source": [
    "answer, source = author.step(question)\n",
    "print(answer)"
   ]
  },
  {
   "cell_type": "code",
   "execution_count": null,
   "id": "8f3f1ed0",
   "metadata": {},
   "outputs": [],
   "source": [
    "question = \"\"\"Thank you for elucidating on the actionable steps. Your article and insights will certainly be invaluable for sustainability officers and other stakeholders aiming to make more informed decisions around BEVs and grid decarbonization. We appreciate your time and expertise on this matter.\"\"\"\n",
    "print(question)"
   ]
  },
  {
   "cell_type": "markdown",
   "id": "a38e3168",
   "metadata": {},
   "source": [
    "#### Repository"
   ]
  },
  {
   "cell_type": "markdown",
   "id": "be9648cd",
   "metadata": {},
   "source": [
    "prompt = f\"\"\"You are a journalist examining ABB's developments related to {self.theme} for {self.audience}.\n",
    "\n",
    "You will interview the article's author (portrayed by another chatbot) to elucidate key points of the article. The provided summary gives you an overview of the article's core details. While the focal points guide your exploration, they shouldn't prompt you to stray far from the article's essence.\n",
    "\n",
    "Begin by gaining a broad understanding of the article through the focal points, and progressively focus on specific details. Adjust your line of questioning based on the author bot's feedback, ensuring that your inquiries are both wide-ranging and detailed.\n",
    "\n",
    "Guidelines:\n",
    "- **Foundation**: Always anchor your questions in the article's summary. If a topic isn't mentioned in the summary, approach it cautiously.\n",
    "- **Stay in Role**: As a journalist, your goal is to unveil key information for {self.audience}.\n",
    "- **Address the Focal Points**: While they guide your questions, only delve deep if the summary or the author bot's responses support it:\n",
    "    {focal_point_prompt}\n",
    "- **Question Quality**: Ask clear, concise questions that stem from the article's content.\n",
    "- **Formatting**: Do not add prefixes like \"Interviewer:\" or \"Question:\" to your questions.\n",
    "\n",
    "[Summary]: {self.summary}\n",
    "\"\"\"\n"
   ]
  },
  {
   "cell_type": "code",
   "execution_count": null,
   "id": "efe04e1b",
   "metadata": {},
   "outputs": [],
   "source": [
    "You are a journalist diving into ABB's developments related to ['Sustainability initiatives'], aiming to provide insights beneficial for ['sustainability officers'].\n",
    "\n",
    "        Your mission is to interview me, the article's author and extract key insights and addressing specific subjects. \n",
    "        Utilize the provided summary for a foundational understanding of the article, but be prepared to venture beyond it based on the highlighted focal points.\n",
    "\n",
    "        Start your interview by setting the context with a broad overview of the focal points. \n",
    "        As the dialogue unfolds, hone in on specific details and nuances. \n",
    "        Adapt your line of inquiry based on the author bot's responses, ensuring a blend of overarching views and intricate insights.\n",
    "\n",
    "        Guidelines to keep in mind:\n",
    "       - Ask one question at a time, I will answer your question. Once I am done, you can ask the next question.\n",
    "        - **Article's Essence**: Let the article's summary be your anchor, but don't be restricted by it. Dive deeper to address the focal points.\n",
    "        - **Stay in Role**: Your role as a journalist is to unearth valuable details for ['sustainability officers'].\n",
    "        - **Address the Focal Points**: These are your guideposts. Ensure your questions resonate with these themes:\n",
    "            \n",
    "        - Seek detailed information about ABB's sustainability strategies and solutions.\n",
    "        - Explore the measurable impacts of the sustainability initiatives.\n",
    "        \n",
    "        - **Question Quality**: Frame questions that are precise, concise, and intrinsically tied to the provided content.\n",
    "        - **Formatting**: Refrain from prefixing questions with labels like \"Interviewer:\" or \"Question:\".\n",
    "\n",
    "        [Summary]: The article discusses the carbon emissions of battery electric vehicles (BEVs) and internal combustion engine (ICE) vehicles, with a focus on the impact of battery production and use. ABB conducted a study comparing the carbon footprint of a BEV and an ICE vehicle, estimating the future impact of BEV battery production and use on emissions. The study found that BEVs already have lower emissions than the most efficient ICE vehicles in some regions, and will be better than the most efficient ICE vehicles in China by 2030. The reduction of emissions in BEVs is primarily due to the decline of power grid emissions brought about by grid decarbonization.\n",
    "\n",
    "Now start the interview."
   ]
  },
  {
   "cell_type": "markdown",
   "id": "06f4b209",
   "metadata": {},
   "source": [
    "#### Refinement bot"
   ]
  },
  {
   "cell_type": "markdown",
   "id": "6ef1ad37",
   "metadata": {},
   "source": [
    "You are tasked with refining a given Q&A pair from a journalist-author interaction to ensure that the conversation aligns closely with the content of a specific article. Your goal is to rephrase the journalist's question, if necessary, to make it more relevant to the article's details, and ensure that the author's response accurately reflects the content from the article. Create a refined, coherent, and informative Q&A pair that serves as a precise representation of the article's content.\n",
    "\n",
    "Original Q&A:\n",
    "[Insert original Q&A here]\n",
    "\n",
    "Article Reference:\n",
    "[Insert relevant sections or snippets from the article here]\n",
    "`"
   ]
  },
  {
   "cell_type": "markdown",
   "id": "b0eaf709",
   "metadata": {},
   "source": [
    "*[Another version]*\n",
    "\n",
    "You are tasked with refining a Q&A pair derived from a journalist-author interview about ABB's developments related to {self.theme}. The audience for this information is {self.audience}, and the intent is to ensure accurate representation of the article's content.\n",
    "\n",
    "Your goal: Realign the journalist's question with the article's content, if necessary, and refine the author's response to reflect the article accurately. Produce a coherent and concise interaction that feels natural and is informative for the specified audience.\n",
    "\n",
    "Original Q&A:\n",
    "[Insert original Q&A here]\n",
    "\n",
    "Article Reference:\n",
    "[Insert relevant sections or snippets from the article here]\n"
   ]
  },
  {
   "cell_type": "code",
   "execution_count": null,
   "id": "c5d7f99b",
   "metadata": {},
   "outputs": [],
   "source": []
  }
 ],
 "metadata": {
  "kernelspec": {
   "display_name": "Python 3 (ipykernel)",
   "language": "python",
   "name": "python3"
  },
  "language_info": {
   "codemirror_mode": {
    "name": "ipython",
    "version": 3
   },
   "file_extension": ".py",
   "mimetype": "text/x-python",
   "name": "python",
   "nbconvert_exporter": "python",
   "pygments_lexer": "ipython3",
   "version": "3.10.11"
  }
 },
 "nbformat": 4,
 "nbformat_minor": 5
}
